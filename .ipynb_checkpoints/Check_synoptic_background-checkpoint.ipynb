{
 "cells": [
  {
   "cell_type": "code",
   "execution_count": 9,
   "id": "341139d6-cacb-4604-9152-715fbc0eab6c",
   "metadata": {},
   "outputs": [],
   "source": [
    "import os\n",
    "from netCDF4 import Dataset\n",
    "import netCDF4 as nc\n",
    "import numpy as np\n",
    "from datetime import datetime, timedelta\n",
    "import matplotlib.pyplot as plt\n",
    "import cartopy.crs as ccrs\n",
    "from cartopy.mpl.gridliner import LONGITUDE_FORMATTER, LATITUDE_FORMATTER\n",
    "from scipy.interpolate import griddata\n",
    "import matplotlib.ticker as mticker"
   ]
  },
  {
   "cell_type": "code",
   "execution_count": 10,
   "id": "fbc21c6e-0208-47a7-9a9f-74608f59e351",
   "metadata": {},
   "outputs": [],
   "source": [
    "# To use PLUMBER2_GPP_common_utils, change directory to where it exists\n",
    "os.chdir('/g/data/w97/mm3972/scripts/Drought/Post_drought_rainfall')\n",
    "from common_utils import *"
   ]
  },
  {
   "cell_type": "markdown",
   "id": "2b2f0534-1797-4fa0-b5fe-ad1cb8741067",
   "metadata": {
    "jp-MarkdownHeadingCollapsed": true,
    "tags": []
   },
   "source": [
    "## Check AGCD rainfall"
   ]
  },
  {
   "cell_type": "code",
   "execution_count": 21,
   "id": "97b32f83-a0c5-4b4a-af18-6ab8beb78882",
   "metadata": {},
   "outputs": [],
   "source": [
    "'''\n",
    "Plot either value or difference\n",
    "'''\n",
    "path_AGCD_rain = '/g/data/zv2/agcd/v1-0-2/precip/total/r005/01day/agcd_v1_precip_total_r005_daily_2020.nc'\n",
    "\n",
    "# Open the NetCDF4 file (add a directory path if necessary) for reading:\n",
    "time, var      = read_var_multi_file([path_AGCD_rain],'precip', None, None, 'lat', 'lon')\n",
    "time_tmp, lats = read_var(path_AGCD_rain, 'lat', None, None, 'lat', 'lon')\n",
    "time_tmp, lons = read_var(path_AGCD_rain, 'lon', None, None, 'lat', 'lon')\n"
   ]
  },
  {
   "cell_type": "code",
   "execution_count": 22,
   "id": "23c5dce6-5aa0-42cd-b4ee-02e19c211c51",
   "metadata": {},
   "outputs": [],
   "source": [
    "# \"Aus\":\n",
    "loc_lat    = [-44,-10]\n",
    "loc_lon    = [112,154]\n"
   ]
  },
  {
   "cell_type": "code",
   "execution_count": null,
   "id": "3cc664bf-0e9a-4abb-8c08-b80bbc2c0b53",
   "metadata": {},
   "outputs": [
    {
     "name": "stderr",
     "output_type": "stream",
     "text": [
      "/jobfs/121506545.gadi-pbs/ipykernel_1477987/1317503468.py:2: RuntimeWarning: More than 20 figures have been opened. Figures created through the pyplot interface (`matplotlib.pyplot.figure`) are retained until explicitly closed and may consume too much memory. (To control this warning, see the rcParam `figure.max_open_warning`). Consider using `matplotlib.pyplot.close()`.\n",
      "  fig = plt.figure(figsize=(6,5))\n"
     ]
    }
   ],
   "source": [
    "for t in np.arange(len(time)):\n",
    "    fig = plt.figure(figsize=(6,5))\n",
    "    ax = plt.axes(projection=ccrs.PlateCarree())\n",
    "\n",
    "\n",
    "    if loc_lat == None:\n",
    "        ax.set_extent([140,154,-40,-28])\n",
    "    else:\n",
    "        ax.set_extent([loc_lon[0],loc_lon[1],loc_lat[0],loc_lat[1]])\n",
    "\n",
    "    ax.coastlines(resolution=\"50m\",linewidth=1)\n",
    "\n",
    "    # Add gridlines\n",
    "    gl               = ax.gridlines(crs=ccrs.PlateCarree(), draw_labels=True,linewidth=1, color='black', linestyle='--')\n",
    "    gl.xlabels_top   = False\n",
    "    gl.ylabels_right = False\n",
    "    gl.xlines        = True\n",
    "\n",
    "    if loc_lat == None:\n",
    "        gl.xlocator = mticker.FixedLocator([140,145,150])\n",
    "        gl.ylocator = mticker.FixedLocator([-40,-35,-30])\n",
    "    else:\n",
    "        gl.xlocator = mticker.FixedLocator(loc_lon)\n",
    "        gl.ylocator = mticker.FixedLocator(loc_lat)\n",
    "\n",
    "    gl.xformatter = LONGITUDE_FORMATTER\n",
    "    gl.yformatter = LATITUDE_FORMATTER\n",
    "    gl.xlabel_style = {'size':10, 'color':'black'}\n",
    "    gl.ylabel_style = {'size':10, 'color':'black'}\n",
    "    # Plot windspeed\n",
    "\n",
    "    # clevs = np.linspace( 0.,1500., num=31)\n",
    "    plt.contourf(lons, lats, var[t,:,:],  transform=ccrs.PlateCarree(), extend='both',cmap=plt.cm.BrBG) # clevs,\n",
    "    plt.title('Rainfall', size=16)\n",
    "    cb = plt.colorbar(ax=ax, orientation=\"vertical\", pad=0.02, aspect=16, shrink=0.8)\n",
    "\n",
    "    cb.ax.tick_params(labelsize=10)\n",
    "\n",
    "    plt.savefig('./plots/AGCD_rainfall/spatial_map_AGCD_rainfall_'+str(t)+'.png',dpi=300)\n"
   ]
  },
  {
   "cell_type": "markdown",
   "id": "c5c0a01d-e1c1-4ced-8088-b914cccdfe62",
   "metadata": {},
   "source": [
    "## ERA5 synoptic background"
   ]
  },
  {
   "cell_type": "code",
   "execution_count": 11,
   "id": "0f8118ec-0e0a-4815-b9e1-8b3d538c368c",
   "metadata": {},
   "outputs": [],
   "source": [
    "ERA5_path    = \"/g/data/rt52/era5/single-levels/reanalysis\"\n",
    "ERA5_T_file  = ERA5_path + '/2t/2017/2t_era5_oper_sfc_20200201-20200228.nc'   # air temperature\n",
    "ERA5_P_file  = ERA5_path + '/sp/2017/sp_era5_oper_sfc_20200201-20200228.nc'   # surface pressure\n",
    "ERA5_U_file  = ERA5_path + '/10u/2017/10u_era5_oper_sfc_20200201-20200228.nc' # 10 m wind speed\n",
    "ERA5_V_file  = ERA5_path + '/10v/2017/10v_era5_oper_sfc_20200201-20200228.nc' # 10 m wind speed\n",
    "ERA5_R_file  = ERA5_path + '/tp/2017/tp_era5_oper_sfc_20200201-20200228.nc'   # Total rainfall"
   ]
  },
  {
   "cell_type": "code",
   "execution_count": 12,
   "id": "122be5a6-3db7-436c-893a-7c1d28f0e167",
   "metadata": {},
   "outputs": [],
   "source": [
    "file_path = ERA5_R_file\n",
    "var_name  = 'tp'\n",
    "lat_name  =  'lat'\n",
    "lon_name  =  'lon'\n",
    "# \"Aus\":\n",
    "loc_lat    = [-44,-10]\n",
    "loc_lon    = [112,154]"
   ]
  },
  {
   "cell_type": "code",
   "execution_count": 13,
   "id": "cc349048-da0c-4348-b566-0fe2b25d07c3",
   "metadata": {},
   "outputs": [
    {
     "ename": "FileNotFoundError",
     "evalue": "[Errno 2] No such file or directory: '/g/data/rt52/era5/single-levels/reanalysis/tp/2017/tp_era5_oper_sfc_20200201-20200228.nc'",
     "output_type": "error",
     "traceback": [
      "\u001b[0;31m---------------------------------------------------------------------------\u001b[0m",
      "\u001b[0;31mFileNotFoundError\u001b[0m                         Traceback (most recent call last)",
      "Cell \u001b[0;32mIn[13], line 2\u001b[0m\n\u001b[1;32m      1\u001b[0m \u001b[38;5;66;03m# Open the NetCDF4 file (add a directory path if necessary) for reading:\u001b[39;00m\n\u001b[0;32m----> 2\u001b[0m time, Var1  \u001b[38;5;241m=\u001b[39m \u001b[43mread_var\u001b[49m\u001b[43m(\u001b[49m\u001b[43mERA5_R_file\u001b[49m\u001b[43m,\u001b[49m\u001b[43m \u001b[49m\u001b[43mvar_name\u001b[49m\u001b[43m,\u001b[49m\u001b[43m \u001b[49m\u001b[43mloc_lat\u001b[49m\u001b[43m,\u001b[49m\u001b[43m \u001b[49m\u001b[43mloc_lon\u001b[49m\u001b[43m,\u001b[49m\u001b[43m \u001b[49m\u001b[43mlat_name\u001b[49m\u001b[43m,\u001b[49m\u001b[43m \u001b[49m\u001b[43mlon_name\u001b[49m\u001b[43m)\u001b[49m\n\u001b[1;32m      3\u001b[0m time, lats  \u001b[38;5;241m=\u001b[39m read_var(ERA5_R_file, lat_name, loc_lat, loc_lon, lat_name, lon_name)\n\u001b[1;32m      4\u001b[0m time, lons  \u001b[38;5;241m=\u001b[39m read_var(ERA5_R_file, lon_name, loc_lat, loc_lon, lat_name, lon_name)\n",
      "File \u001b[0;32m/g/data/w97/mm3972/scripts/Drought/Post_drought_rainfall/common_utils.py:131\u001b[0m, in \u001b[0;36mread_var\u001b[0;34m(file_path, var_name, loc_lat, loc_lon, lat_name, lon_name)\u001b[0m\n\u001b[1;32m    124\u001b[0m \u001b[38;5;250m\u001b[39m\u001b[38;5;124;03m'''\u001b[39;00m\n\u001b[1;32m    125\u001b[0m \u001b[38;5;124;03mRead observation data, output time coordinate and variable array\u001b[39;00m\n\u001b[1;32m    126\u001b[0m \u001b[38;5;124;03mOutput: AEST time\u001b[39;00m\n\u001b[1;32m    127\u001b[0m \u001b[38;5;124;03m'''\u001b[39;00m\n\u001b[1;32m    129\u001b[0m \u001b[38;5;66;03m#print(var_name)\u001b[39;00m\n\u001b[0;32m--> 131\u001b[0m obs_file   \u001b[38;5;241m=\u001b[39m \u001b[43mDataset\u001b[49m\u001b[43m(\u001b[49m\u001b[43mfile_path\u001b[49m\u001b[43m,\u001b[49m\u001b[43m \u001b[49m\u001b[43mmode\u001b[49m\u001b[38;5;241;43m=\u001b[39;49m\u001b[38;5;124;43m'\u001b[39;49m\u001b[38;5;124;43mr\u001b[39;49m\u001b[38;5;124;43m'\u001b[39;49m\u001b[43m)\u001b[49m\n\u001b[1;32m    132\u001b[0m time_tmp   \u001b[38;5;241m=\u001b[39m nc\u001b[38;5;241m.\u001b[39mnum2date(obs_file\u001b[38;5;241m.\u001b[39mvariables[\u001b[38;5;124m'\u001b[39m\u001b[38;5;124mtime\u001b[39m\u001b[38;5;124m'\u001b[39m][:],obs_file\u001b[38;5;241m.\u001b[39mvariables[\u001b[38;5;124m'\u001b[39m\u001b[38;5;124mtime\u001b[39m\u001b[38;5;124m'\u001b[39m]\u001b[38;5;241m.\u001b[39munits,\n\u001b[1;32m    133\u001b[0m              only_use_cftime_datetimes\u001b[38;5;241m=\u001b[39m\u001b[38;5;28;01mFalse\u001b[39;00m, only_use_python_datetimes\u001b[38;5;241m=\u001b[39m\u001b[38;5;28;01mTrue\u001b[39;00m)\n\u001b[1;32m    134\u001b[0m \u001b[38;5;28;01mif\u001b[39;00m \u001b[38;5;124m'\u001b[39m\u001b[38;5;124mAWAP\u001b[39m\u001b[38;5;124m'\u001b[39m \u001b[38;5;129;01min\u001b[39;00m file_path \u001b[38;5;129;01mor\u001b[39;00m \u001b[38;5;124m'\u001b[39m\u001b[38;5;124mcable_out\u001b[39m\u001b[38;5;124m'\u001b[39m \u001b[38;5;129;01min\u001b[39;00m file_path \u001b[38;5;129;01mor\u001b[39;00m \u001b[38;5;124m'\u001b[39m\u001b[38;5;124mEHF\u001b[39m\u001b[38;5;124m'\u001b[39m \u001b[38;5;129;01min\u001b[39;00m file_path:\n",
      "File \u001b[0;32msrc/netCDF4/_netCDF4.pyx:2469\u001b[0m, in \u001b[0;36mnetCDF4._netCDF4.Dataset.__init__\u001b[0;34m()\u001b[0m\n",
      "File \u001b[0;32msrc/netCDF4/_netCDF4.pyx:2028\u001b[0m, in \u001b[0;36mnetCDF4._netCDF4._ensure_nc_success\u001b[0;34m()\u001b[0m\n",
      "\u001b[0;31mFileNotFoundError\u001b[0m: [Errno 2] No such file or directory: '/g/data/rt52/era5/single-levels/reanalysis/tp/2017/tp_era5_oper_sfc_20200201-20200228.nc'"
     ]
    }
   ],
   "source": [
    "# Open the NetCDF4 file (add a directory path if necessary) for reading:\n",
    "time, Var1  = read_var(ERA5_R_file, var_name, loc_lat, loc_lon, lat_name, lon_name)\n",
    "time, lats  = read_var(ERA5_R_file, lat_name, loc_lat, loc_lon, lat_name, lon_name)\n",
    "time, lons  = read_var(ERA5_R_file, lon_name, loc_lat, loc_lon, lat_name, lon_name)"
   ]
  },
  {
   "cell_type": "code",
   "execution_count": null,
   "id": "5cd61962-924c-4ef8-b5a6-e4d31fc57d6e",
   "metadata": {},
   "outputs": [],
   "source": [
    "\n",
    "    #     # for i in np.arange(0,30):\n",
    "    #     time_s = datetime(2017,1,2,0,0,0,0) #+ timedelta(days=int(i))\n",
    "    #     time_e = datetime(2017,1,31,23,59,0,0) #+ timedelta(days=int(i))\n",
    "    \n",
    "    \n",
    "if var_name in ['tas','Tair','Tair_f_inst']:\n",
    "    var1         = spatial_var(time,Var1,time_s,time_e)-273.15\n",
    "    print(var1)\n",
    "elif var_name in ['tp']:\n",
    "    scale        = get_scale(var_name)\n",
    "    var1         = spital_ERAI_tp(time,Var1,time_s,time_e)*scale\n",
    "elif var_name in ['Rainf','Rainf_tavg']:\n",
    "    var1         = spatial_var(time,Var1,time_s,time_e)*24*60*60.\n",
    "    print(var1)\n",
    "elif var_name in ['Wind']:\n",
    "    # !!!!!!!!! Note that !!!!!!!!!!!\n",
    "    # Wind speeds is at 2 meter height in AWAP while 10 meters in WRF-CABLE\n",
    "    # So here converting AWAP 2m wind speed to 10m wind speed by multipling 2\n",
    "    var1         = spatial_var(time,Var1,time_s,time_e)*2.\n",
    "    print(var1)\n",
    "else:\n",
    "    scale        = get_scale(var_name)\n",
    "    var1         = spatial_var(time,Var1,time_s,time_e)*scale\n",
    "\n",
    "# ================== Start Plotting =================\n",
    "fig = plt.figure(figsize=(6,5))\n",
    "ax  = plt.axes(projection=ccrs.PlateCarree())\n",
    "\n",
    "# start plotting\n",
    "if loc_lat == None:\n",
    "    ax.set_extent([135,155,-40,-25])\n",
    "else:\n",
    "    ax.set_extent([loc_lon[0],loc_lon[1],loc_lat[0],loc_lat[1]])\n",
    "\n",
    "ax.coastlines(resolution=\"50m\",linewidth=1)\n",
    "\n",
    "# Add gridlines\n",
    "gl = ax.gridlines(crs=ccrs.PlateCarree(), draw_labels=True,linewidth=1, color='black', linestyle='--')\n",
    "gl.xlabels_top   = False\n",
    "gl.ylabels_right = False\n",
    "gl.xlines        = True\n",
    "\n",
    "if loc_lat == None:\n",
    "    gl.xlocator = mticker.FixedLocator([135,140,145,150,155])\n",
    "    gl.ylocator = mticker.FixedLocator([-40,-35,-30,-25])\n",
    "else:\n",
    "    gl.xlocator = mticker.FixedLocator(loc_lon)\n",
    "    gl.ylocator = mticker.FixedLocator(loc_lat)\n",
    "\n",
    "gl.xformatter   = LONGITUDE_FORMATTER\n",
    "gl.yformatter   = LATITUDE_FORMATTER\n",
    "gl.xlabel_style = {'size':10, 'color':'black'}\n",
    "gl.ylabel_style = {'size':10, 'color':'black'}\n",
    "\n",
    "\n",
    "# plot Var1\n",
    "if var_name in ['tas','Tair','Tair_f_inst']:\n",
    "    clevs = np.arange( 15.,40.,1.) #np.linspace( 15.,45., num=31)\n",
    "    cmap  = plt.cm.RdYlBu_r\n",
    "elif var_name in ['Rainf','Rainf_tavg']:\n",
    "    clevs = np.arange( 0.,22.,2.) #np.linspace( 15.,45., num=31)\n",
    "    cmap  = plt.cm.Blues\n",
    "elif var_name in ['Wind','Wind_f_inst']:\n",
    "    clevs = np.arange( 0,10.,0.5) #np.linspace( 15.,45., num=31)\n",
    "    cmap  = plt.cm.Blues\n",
    "elif var_name in ['LWdown','LWdown_f_inst','SWdown','SWdown_f_inst']:\n",
    "    clevs = np.arange( 80.,500.,20.) #np.linspace( 15.,45., num=31)\n",
    "    cmap  = plt.cm.RdYlBu_r\n",
    "elif var_name in ['Qair','Qair_f_inst']:\n",
    "    # kg kg-1\n",
    "    clevs = np.arange( 0.,0.02, 0.001) #np.linspace( 15.,45., num=31)\n",
    "    cmap  = plt.cm.RdYlBu_r\n",
    "else:\n",
    "    # clevs = np.linspace( 0.,120., num=13)\n",
    "    clevs = np.linspace( 0.,5., num=11)\n",
    "    cmap  = plt.cm.GnBu # BrBG\n",
    "\n",
    "plt.contourf(lons, lats, var1, clevs, transform=ccrs.PlateCarree(), cmap=cmap, extend='both') #,#bwr)#coolwarm)#cm.BrBG) # clevs,\n",
    "\n",
    "plt.title(var_name, size=16)\n",
    "cb = plt.colorbar(ax=ax, orientation=\"vertical\", pad=0.02, aspect=16, shrink=0.8)\n",
    "# cb.set_label(units,size=14,rotation=270,labelpad=15)\n",
    "cb.ax.tick_params(labelsize=10)\n",
    "\n",
    "# plot Var2\n",
    "if len(file_paths) > 1 and var_names[1] == 'ps':\n",
    "    clevs = np.arange( -100.,100., 20.)\n",
    "    cs = plt.contour(lons2, lats2, var2-1010., clevs, transform=ccrs.PlateCarree(),linewidths=0.8,colors=\"darkgray\") #, ,cmap=plt.cm.hot_r)#bwr)#coolwarm)#cm.BrBG) # clevs,\n",
    "    cl = plt.clabel(cs, inline=True, fmt=\"%4d\",fontsize=6) #manual=True)\n",
    "\n",
    "# # plot Var3, Var4\n",
    "# if len(file_paths) > 3 and var_names[2] == 'uas' and var_names[3] == 'vas':\n",
    "#     qv = plt.quiver(lons[::3,::3], lats[::3,::3], var3[::3,::3], var4[::3,::3], scale=300, color='k')\n",
    "\n",
    "plt.savefig('./plots/ERA5_weather/spatial_map_ERA5_'+message+'.png',dpi=300)\n"
   ]
  }
 ],
 "metadata": {
  "kernelspec": {
   "display_name": "Python [conda env:analysis3-24.04]",
   "language": "python",
   "name": "conda-env-analysis3-24.04-py"
  },
  "language_info": {
   "codemirror_mode": {
    "name": "ipython",
    "version": 3
   },
   "file_extension": ".py",
   "mimetype": "text/x-python",
   "name": "python",
   "nbconvert_exporter": "python",
   "pygments_lexer": "ipython3",
   "version": "3.10.14"
  }
 },
 "nbformat": 4,
 "nbformat_minor": 5
}
