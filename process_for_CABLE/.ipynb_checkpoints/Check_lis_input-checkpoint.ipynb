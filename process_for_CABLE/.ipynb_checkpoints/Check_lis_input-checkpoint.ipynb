{
 "cells": [
  {
   "cell_type": "code",
   "execution_count": 1,
   "id": "635ab7bb-ea9a-4353-a1d1-068f68ef0ffb",
   "metadata": {},
   "outputs": [],
   "source": [
    "import os\n",
    "from netCDF4 import Dataset\n",
    "import numpy as np\n",
    "from datetime import datetime, timedelta\n",
    "import matplotlib.pyplot as plt\n",
    "import pandas as pd\n",
    "import cartopy.crs as ccrs\n",
    "import cartopy.feature as cfeature\n",
    "from cartopy.mpl.gridliner import LONGITUDE_FORMATTER, LATITUDE_FORMATTER\n",
    "from scipy.interpolate import griddata\n",
    "import matplotlib.ticker as mticker"
   ]
  },
  {
   "cell_type": "code",
   "execution_count": 2,
   "id": "c0e536dc-c66d-4be9-8b8e-50eff7324422",
   "metadata": {},
   "outputs": [],
   "source": [
    "# To use PLUMBER2_GPP_common_utils, change directory to where it exists\n",
    "os.chdir('/g/data/w97/mm3972/scripts/Land_Drought_Rainfall')\n",
    "from common_utils import *"
   ]
  },
  {
   "cell_type": "code",
   "execution_count": null,
   "id": "4acb5b78-2845-46e0-988e-3984bf829f2b",
   "metadata": {},
   "outputs": [],
   "source": [
    "CABLE_restart  = '/g/data/w97/mm3972/model/cable/runs/Land_drought_rainfall_runs/spinup_run_1970_1999/restarts/restart_1970_one_year_5km_run_with_SM_ST_spinup_read_from_gridinfo.nc'   \n",
    "gridinfo       = '/g/data/w97/mm3972/model/cable/src/CABLE-AUX/offline/mmy_gridinfo_AU/gridinfo_AWAP_CSIRO_AU_NAT_new_iveg_mask.nc'"
   ]
  }
 ],
 "metadata": {
  "kernelspec": {
   "display_name": "Python [conda env:analysis3-24.01]",
   "language": "python",
   "name": "conda-env-analysis3-24.01-py"
  },
  "language_info": {
   "codemirror_mode": {
    "name": "ipython",
    "version": 3
   },
   "file_extension": ".py",
   "mimetype": "text/x-python",
   "name": "python",
   "nbconvert_exporter": "python",
   "pygments_lexer": "ipython3",
   "version": "3.10.13"
  }
 },
 "nbformat": 4,
 "nbformat_minor": 5
}
