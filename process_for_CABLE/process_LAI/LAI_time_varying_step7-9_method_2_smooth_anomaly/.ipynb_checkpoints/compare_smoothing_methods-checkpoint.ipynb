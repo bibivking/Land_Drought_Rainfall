{
 "cells": [
  {
   "cell_type": "code",
   "execution_count": 1,
   "id": "4379acd9-c91b-4748-9bee-96c35add79cf",
   "metadata": {},
   "outputs": [],
   "source": [
    "import os\n",
    "import gc\n",
    "import sys\n",
    "import glob\n",
    "import copy\n",
    "import numpy as np\n",
    "import pandas as pd\n",
    "import netCDF4 as nc\n",
    "import multiprocessing as mp\n",
    "from datetime import datetime, timedelta\n",
    "from matplotlib.cm import get_cmap\n",
    "import matplotlib.pyplot as plt\n",
    "from matplotlib import cm\n",
    "from matplotlib import colors"
   ]
  },
  {
   "cell_type": "code",
   "execution_count": 2,
   "id": "1d7057c2-13d9-4c11-8e52-a68b8fad7a1b",
   "metadata": {},
   "outputs": [],
   "source": [
    "# To use PLUMBER2_GPP_common_utils, change directory to where it exists\n",
    "os.chdir('/g/data/w97/mm3972/scripts/Land_Drought_Rainfall')\n",
    "from common_utils import *"
   ]
  },
  {
   "cell_type": "markdown",
   "id": "c7090833-8302-4370-afba-c42e8204da62",
   "metadata": {
    "jp-MarkdownHeadingCollapsed": true,
    "tags": []
   },
   "source": [
    "### Compare smoothing methods"
   ]
  },
  {
   "cell_type": "code",
   "execution_count": 4,
   "id": "4a645e24-a52c-45c8-9a24-ca522554a9bf",
   "metadata": {},
   "outputs": [
    {
     "ename": "FileNotFoundError",
     "evalue": "[Errno 2] No such file or directory: '/g/data/w97/mm3972/data/MODIS/MODIS_LAI/AUS/regrid_2_AWAP_5km_daily/remove_high_frequent_varibility/MCD15A3H.061_500m_aid0001_LAI_regridded_daily_2002-2024_cubic_spline_smooth.nc'",
     "output_type": "error",
     "traceback": [
      "\u001b[0;31m---------------------------------------------------------------------------\u001b[0m",
      "\u001b[0;31mFileNotFoundError\u001b[0m                         Traceback (most recent call last)",
      "Cell \u001b[0;32mIn[4], line 6\u001b[0m\n\u001b[1;32m      3\u001b[0m \u001b[38;5;66;03m# file_rm_high= \"/g/data/w97/mm3972/data/MODIS/MODIS_LAI/AUS/regrid_2_AWAP_5km_daily/remove_high_frequent_varibility/MCD15A3H.061_500m_aid0001_LAI_regridded_daily_2000-2023_31day_smooth_remove_high_freq.nc\"\u001b[39;00m\n\u001b[1;32m      4\u001b[0m file_rm_high\u001b[38;5;241m=\u001b[39m \u001b[38;5;124m\"\u001b[39m\u001b[38;5;124m/g/data/w97/mm3972/data/MODIS/MODIS_LAI/AUS/regrid_2_AWAP_5km_daily/remove_high_frequent_varibility/MCD15A3H.061_500m_aid0001_LAI_regridded_daily_2003-2023_remove_high_freq.nc\u001b[39m\u001b[38;5;124m\"\u001b[39m\n\u001b[0;32m----> 6\u001b[0m f_cubic     \u001b[38;5;241m=\u001b[39m \u001b[43mnc\u001b[49m\u001b[38;5;241;43m.\u001b[39;49m\u001b[43mDataset\u001b[49m\u001b[43m(\u001b[49m\u001b[43mfile_cubic\u001b[49m\u001b[43m)\u001b[49m\n\u001b[1;32m      7\u001b[0m f_smooth    \u001b[38;5;241m=\u001b[39m nc\u001b[38;5;241m.\u001b[39mDataset(file_smooth)\n\u001b[1;32m      8\u001b[0m f_rm_high   \u001b[38;5;241m=\u001b[39m nc\u001b[38;5;241m.\u001b[39mDataset(file_rm_high)\n",
      "File \u001b[0;32msrc/netCDF4/_netCDF4.pyx:2470\u001b[0m, in \u001b[0;36mnetCDF4._netCDF4.Dataset.__init__\u001b[0;34m()\u001b[0m\n",
      "File \u001b[0;32msrc/netCDF4/_netCDF4.pyx:2107\u001b[0m, in \u001b[0;36mnetCDF4._netCDF4._ensure_nc_success\u001b[0;34m()\u001b[0m\n",
      "\u001b[0;31mFileNotFoundError\u001b[0m: [Errno 2] No such file or directory: '/g/data/w97/mm3972/data/MODIS/MODIS_LAI/AUS/regrid_2_AWAP_5km_daily/remove_high_frequent_varibility/MCD15A3H.061_500m_aid0001_LAI_regridded_daily_2002-2024_cubic_spline_smooth.nc'"
     ]
    }
   ],
   "source": [
    "file_cubic  = '/g/data/w97/mm3972/data/MODIS/MODIS_LAI/AUS/regrid_2_AWAP_5km_daily/remove_high_frequent_varibility/MCD15A3H.061_500m_aid0001_LAI_regridded_daily_2002-2024_cubic_spline_smooth.nc'\n",
    "file_smooth = '/g/data/w97/mm3972/data/MODIS/MODIS_LAI/AUS/regrid_2_AWAP_5km_daily/31-day_smoothing_whole_series/MCD15A3H.061_500m_aid0001_LAI_regridded_daily_2002-2024_31day_smooth.nc'\n",
    "# file_rm_high= \"/g/data/w97/mm3972/data/MODIS/MODIS_LAI/AUS/regrid_2_AWAP_5km_daily/remove_high_frequent_varibility/MCD15A3H.061_500m_aid0001_LAI_regridded_daily_2000-2023_31day_smooth_remove_high_freq.nc\"\n",
    "file_rm_high= \"/g/data/w97/mm3972/data/MODIS/MODIS_LAI/AUS/regrid_2_AWAP_5km_daily/remove_high_frequent_varibility/MCD15A3H.061_500m_aid0001_LAI_regridded_daily_2003-2023_remove_high_freq.nc\"\n",
    "\n",
    "f_cubic     = nc.Dataset(file_cubic)\n",
    "f_smooth    = nc.Dataset(file_smooth)\n",
    "f_rm_high   = nc.Dataset(file_rm_high)\n",
    "\n",
    "time_cubic   = f_cubic.variables['time'][:].data #[:,238,793]\n",
    "lai_cubic    = f_cubic.variables['Lai_500m'][:]#[:,238,793]\n",
    "time_smooth  = f_smooth.variables['time'][:].data#[:,238,793]\n",
    "lai_smooth   = f_smooth.variables['Lai_500m'][:]#[:,238,793]\n",
    "time_rm_high = f_rm_high.variables['time'][:].data#[:,238,793]\n",
    "lai_rm_high  = f_rm_high.variables['LAI'][:]#[:,238,793]"
   ]
  },
  {
   "cell_type": "code",
   "execution_count": null,
   "id": "f2c985f0-4b55-4e50-92cb-0b4139d12873",
   "metadata": {},
   "outputs": [],
   "source": [
    "file_orig  = '/g/data/w97/mm3972/data/MODIS/MODIS_LAI/AUS/regrid_2_AWAP_5km_daily/MCD15A3H.061_500m_aid0001_LAI_regridded_daily_2002-2024.nc'\n",
    "\n",
    "f_orig     = nc.Dataset(file_orig)\n",
    "time_orig  = f_orig.variables['time'][:].data #[:,238,793]\n",
    "lai_orig   = f_orig.variables['Lai_500m'][:]#[:,238,793]"
   ]
  },
  {
   "cell_type": "code",
   "execution_count": null,
   "id": "95549a97-2549-43ba-8a3e-7ef50e354deb",
   "metadata": {},
   "outputs": [],
   "source": [
    "file_clim  = '/g/data/w97/mm3972/data/MODIS/MODIS_LAI/AUS/regrid_2_AWAP_5km_daily/MCD15A3H.061_500m_aid0001_LAI_regridded_daily_2002-2024.nc'\n",
    "\n",
    "f_orig     = nc.Dataset(file_orig)\n",
    "time_orig  = f_orig.variables['time'][:].data #[:,238,793]\n",
    "lai_orig   = f_orig.variables['Lai_500m'][:]#[:,238,793]"
   ]
  },
  {
   "cell_type": "code",
   "execution_count": 1,
   "id": "1ae9c047-45ec-45b0-84c1-d4634722e07e",
   "metadata": {},
   "outputs": [
    {
     "ename": "NameError",
     "evalue": "name 'plt' is not defined",
     "output_type": "error",
     "traceback": [
      "\u001b[0;31m---------------------------------------------------------------------------\u001b[0m",
      "\u001b[0;31mNameError\u001b[0m                                 Traceback (most recent call last)",
      "Cell \u001b[0;32mIn[1], line 10\u001b[0m\n\u001b[1;32m      1\u001b[0m \u001b[38;5;66;03m# mask_orig   = (time_orig >=1096+365*5) & (time_orig <=1096+365*6)\u001b[39;00m\n\u001b[1;32m      2\u001b[0m \u001b[38;5;66;03m# mask_cubic   = (time_cubic >=1096+365*5) & (time_cubic <=1096+365*6)\u001b[39;00m\n\u001b[1;32m      3\u001b[0m \u001b[38;5;66;03m# mask_smooth  = (time_smooth >=1096+365*5) & (time_smooth <=1096+365*6)\u001b[39;00m\n\u001b[0;32m   (...)\u001b[0m\n\u001b[1;32m      7\u001b[0m \u001b[38;5;66;03m# lai_smooth_tmp  = lai_smooth[time_smooth]\u001b[39;00m\n\u001b[1;32m      8\u001b[0m \u001b[38;5;66;03m# lai_rm_high_tmp = lai_rm_high[time_rm_high]\u001b[39;00m\n\u001b[0;32m---> 10\u001b[0m \u001b[43mplt\u001b[49m\u001b[38;5;241m.\u001b[39mplot(lai_orgi[mask_orig,\u001b[38;5;241m324\u001b[39m,\u001b[38;5;241m323\u001b[39m]\u001b[38;5;241m.\u001b[39mdata, c\u001b[38;5;241m=\u001b[39m\u001b[38;5;124m'\u001b[39m\u001b[38;5;124mgreen\u001b[39m\u001b[38;5;124m'\u001b[39m, label\u001b[38;5;241m=\u001b[39m\u001b[38;5;124m'\u001b[39m\u001b[38;5;124morig\u001b[39m\u001b[38;5;124m'\u001b[39m) \u001b[38;5;66;03m# 131,736; 238,793\u001b[39;00m\n\u001b[1;32m     11\u001b[0m plt\u001b[38;5;241m.\u001b[39mplot(lai_smooth[mask_smooth,\u001b[38;5;241m324\u001b[39m,\u001b[38;5;241m323\u001b[39m]\u001b[38;5;241m.\u001b[39mdata, c\u001b[38;5;241m=\u001b[39m\u001b[38;5;124m'\u001b[39m\u001b[38;5;124mblue\u001b[39m\u001b[38;5;124m'\u001b[39m, label\u001b[38;5;241m=\u001b[39m\u001b[38;5;124m'\u001b[39m\u001b[38;5;124msmooth\u001b[39m\u001b[38;5;124m'\u001b[39m) \u001b[38;5;66;03m# 131,736; 238,793\u001b[39;00m\n\u001b[1;32m     12\u001b[0m \u001b[38;5;66;03m# plt.plot(lai_cubic[mask_cubic,324,303].data*10., c='red', label='cubic')\u001b[39;00m\n",
      "\u001b[0;31mNameError\u001b[0m: name 'plt' is not defined"
     ]
    }
   ],
   "source": [
    "mask_orig   = (time_orig >=1096+365*5) & (time_orig <=1096+365*6)\n",
    "mask_cubic   = (time_cubic >=1096+365*5) & (time_cubic <=1096+365*6)\n",
    "mask_smooth  = (time_smooth >=1096+365*5) & (time_smooth <=1096+365*6)\n",
    "mask_rm_high = (time_rm_high >=1096+365*5) & (time_rm_high <=1096+365*6)\n",
    "\n",
    "plt.plot(lai_orgi[mask_orig,324,323].data, c='green', label='orig') # 131,736; 238,793\n",
    "plt.plot(lai_smooth[mask_smooth,324,323].data, c='blue', label='smooth') # 131,736; 238,793\n",
    "# plt.plot(lai_cubic[mask_cubic,324,303].data*10., c='red', label='cubic')\n",
    "plt.plot(lai_rm_high[mask_rm_high,324,323].data*10., c='orange', label='remove_high_freq') # 131,736\n",
    "plt.legend()\n"
   ]
  },
  {
   "cell_type": "markdown",
   "id": "07ccfb85-54f4-4c1f-8746-ab6051f27b8c",
   "metadata": {
    "tags": []
   },
   "source": [
    "### Compare smoothing methods"
   ]
  },
  {
   "cell_type": "code",
   "execution_count": 3,
   "id": "ab288190-02ee-40a3-9a70-3531a3fa7dcb",
   "metadata": {},
   "outputs": [],
   "source": [
    "file_orig   = '/g/data/w97/mm3972/data/MODIS/MODIS_LAI/AUS/regrid_2_AWAP_5km_daily/MCD15A3H.061_500m_aid0001_LAI_regridded_daily_2000-2023.nc'\n",
    "file_smooth = '/g/data/w97/mm3972/data/MODIS/MODIS_LAI/AUS/regrid_2_AWAP_5km_daily/remove_high_frequent_varibility_method1_31-day_running_smooth/MCD15A3H.061_500m_aid0001_LAI_regridded_daily_2000-2023_31day_smooth.nc'\n",
    "file_rm_high= '/g/data/w97/mm3972/data/MODIS/MODIS_LAI/AUS/regrid_2_AWAP_5km_daily/remove_high_frequent_varibility_method2_smooth_anomaly/MCD15A3H.061_500m_aid0001_LAI_regridded_daily_2000-2023_remove_high_freq.nc'\n"
   ]
  },
  {
   "cell_type": "code",
   "execution_count": 5,
   "id": "89076a44-168c-4abc-b031-295d209bdb1e",
   "metadata": {},
   "outputs": [],
   "source": [
    "f_orig       = nc.Dataset(file_orig)\n",
    "f_smooth     = nc.Dataset(file_smooth)\n",
    "f_rm_high    = nc.Dataset(file_rm_high)\n",
    "\n",
    "time_orig    = f_orig.variables['time'][:].data #[:,238,793]\n",
    "lai_orig     = f_orig.variables['LAI'][:]#[:,238,793]\n",
    "time_smooth  = f_smooth.variables['time'][:].data#[:,238,793]\n",
    "lai_smooth   = f_smooth.variables['LAI'][:]#[:,238,793]\n",
    "time_rm_high = f_rm_high.variables['time'][:].data#[:,238,793]\n",
    "lai_rm_high  = f_rm_high.variables['LAI'][:]#[:,238,793]"
   ]
  },
  {
   "cell_type": "code",
   "execution_count": 14,
   "id": "8d7a3227-92de-49d2-94f2-8870f97cbeaa",
   "metadata": {},
   "outputs": [
    {
     "data": {
      "text/plain": [
       "<matplotlib.legend.Legend at 0x14a4e7451e10>"
      ]
     },
     "execution_count": 14,
     "metadata": {},
     "output_type": "execute_result"
    },
    {
     "data": {
      "image/png": "[encoded data removed]",
      "text/plain": [
       "<Figure size 640x480 with 1 Axes>"
      ]
     },
     "metadata": {},
     "output_type": "display_data"
    }
   ],
   "source": [
    "mask_orig    = (time_orig >=365*2) & (time_orig <=365*3)\n",
    "mask_smooth  = (time_smooth >=365*2) & (time_smooth <=365*3)\n",
    "mask_rm_high = (time_rm_high >=365*2) & (time_rm_high <=365*3)\n",
    "\n",
    "plt.plot(lai_orig[mask_orig,131,736].data, c='green', label='orig') # 131,736; 238,793; 324,323\n",
    "plt.plot(lai_smooth[mask_smooth,131,736].data, c='blue', label='smooth') # 131,736; 238,793\n",
    "plt.plot(lai_rm_high[mask_rm_high,131,736].data, c='orange', label='remove_high_freq') # 131,736\n",
    "plt.legend()\n"
   ]
  },
  {
   "cell_type": "markdown",
   "id": "539d844d-73a0-4ed2-96b0-db9f2935f692",
   "metadata": {},
   "source": [
    "### Compare processed LAI with PLUMBER2 LAI"
   ]
  },
  {
   "cell_type": "code",
   "execution_count": null,
   "id": "d9c8dc09-5c38-45fc-aa86-2c82df20577d",
   "metadata": {},
   "outputs": [],
   "source": [
    "file_LAI  = '/g/data/w97/mm3972/data/MODIS/MODIS_LAI/AUS/regrid_2_AWAP_5km_daily/remove_high_frequent_varibility_method2_smooth_anomaly/MCD15A3H.061_500m_aid0001_LAI_regridded_daily_2000-2023_remove_high_freq.nc'\n",
    "\n",
    "var_name = 'LAI'\n",
    "\n",
    "if var_name == 'LAI':\n",
    "    message = 'Met'\n",
    "else:\n",
    "    message = 'Flux'\n",
    "\n",
    "PLUMBER2_path      = f'/g/data/w97/mm3972/data/Fluxnet_data/Post-processed_PLUMBER2_outputs/Nc_files/{message}'\n",
    "PLUMBER2_AU_files  = [  f'AU-ASM_2011-2017_OzFlux_{message}.nc',      \n",
    "                        f'AU-Cpr_2011-2017_OzFlux_{message}.nc',     \n",
    "                        f'AU-Cum_2013-2018_OzFlux_{message}.nc',       \n",
    "                        f'AU-DaP_2009-2012_OzFlux_{message}.nc',       \n",
    "                        f'AU-DaS_2010-2017_OzFlux_{message}.nc',       \n",
    "                        f'AU-Dry_2011-2015_OzFlux_{message}.nc',       \n",
    "                        f'AU-Emr_2012-2013_OzFlux_{message}.nc',       \n",
    "                        f'AU-GWW_2013-2017_OzFlux_{message}.nc',       \n",
    "                        f'AU-Gin_2012-2017_OzFlux_{message}.nc',       \n",
    "                        f'AU-How_2003-2017_OzFlux_{message}.nc',       \n",
    "                        f'AU-Lit_2016-2017_OzFlux_{message}.nc',       \n",
    "                        f'AU-Rig_2011-2016_OzFlux_{message}.nc',       \n",
    "                        f'AU-Rob_2014-2017_OzFlux_{message}.nc',       \n",
    "                        f'AU-Sam_2011-2017_OzFlux_{message}.nc',       \n",
    "                        f'AU-Stp_2010-2017_OzFlux_{message}.nc',       \n",
    "                        f'AU-TTE_2013-2017_OzFlux_{message}.nc',       \n",
    "                        f'AU-Tum_2002-2017_OzFlux_{message}.nc',       \n",
    "                        f'AU-Whr_2015-2016_OzFlux_{message}.nc',       \n",
    "                        f'AU-Wrr_2016-2017_OzFlux_{message}.nc',       \n",
    "                        f'AU-Ync_2011-2017_OzFlux_{message}.nc',\n",
    "                        # f'AU-Otw_2009-2010_OzFlux_{message}.nc',     \n",
    "                        # f'AU-Cow_2010-2015_OzFlux_{message}.nc',         \n",
    "                        # f'AU-Ctr_2010-2017_OzFlux_{message}.nc',         \n",
    "                        ]\n",
    "\n",
    "\n",
    "for PLUMBER2_AU_file in PLUMBER2_AU_files:\n",
    "    \n",
    "    site_name = PLUMBER2_AU_file.split('_')[0] \n",
    "    print(site_name)\n",
    "    \n",
    "    # Read PLUMBER2 file\n",
    "    if var_name == 'LAI':\n",
    "        f_PLUMBER2 = nc.Dataset(f'{PLUMBER2_path}/{PLUMBER2_AU_file}') \n",
    "    else:\n",
    "        f_PLUMBER2 = nc.Dataset(f'{PLUMBER2_path}/{PLUMBER2_AU_file}')\n",
    "    df_P2 = pd.DataFrame(f_PLUMBER2.variables[var_name][:,0,0].data, columns=[var_name])\n",
    "\n",
    "    # Read PLUMBER2 time\n",
    "    P2_time = nc.num2date(f_PLUMBER2.variables['time'][:], \n",
    "                          f_PLUMBER2.variables['time'].units, \n",
    "                          only_use_cftime_datetimes=False,\n",
    "                          only_use_python_datetimes=True)\n",
    "    ntime = len(P2_time)\n",
    "\n",
    "    year  = np.zeros(ntime)\n",
    "    month = np.zeros(ntime)\n",
    "    day   = np.zeros(ntime)\n",
    "    \n",
    "    # Extract year, month, day\n",
    "    for tt, t in enumerate(P2_time):\n",
    "        year[tt]  = t.year\n",
    "        month[tt] = t.month\n",
    "        day[tt]   = t.day\n",
    "\n",
    "    df_P2['year']  = year\n",
    "    df_P2['month'] = month\n",
    "    df_P2['day']   = day\n",
    "    df_P2 = df_P2.groupby(['year', 'month', 'day']).mean(numeric_only=True).reset_index()\n",
    "    \n",
    "    # Read CABLE output\n",
    "    f_LAI = nc.Dataset(f'{file_LAI}')\n",
    "    df_LAI = pd.DataFrame(f_LAI.variables[var_name][:].data, columns=[var_name])\n",
    "\n",
    "    # Read CABLE time\n",
    "    CABLE_time = nc.num2date(f_LAI.variables['time'][:], \n",
    "                             f_LAI.variables['time'].units, \n",
    "                             only_use_cftime_datetimes=False,\n",
    "                             only_use_python_datetimes=True)\n",
    "    \n",
    "    # Subset CABLE data to match PLUMBER2 time range\n",
    "    df_LAI = df_LAI[(CABLE_time >= P2_time[0]) & (CABLE_time <= P2_time[-1])]\n",
    "    CABLE_time = CABLE_time[(CABLE_time >= P2_time[0]) & (CABLE_time <= P2_time[-1])]\n",
    "    # Print lengths of CABLE and PLUMBER2 data for validation\n",
    "    # print(df_LAI)\n",
    "\n",
    "    # ================== Start Plotting =================\n",
    "    fig, ax  = plt.subplots(figsize=(6,5))\n",
    "    \n",
    "    # Plot comparison of Qle for CABLE and PLUMBER2\n",
    "    ax.plot(CABLE_time,df_LAI[var_name].rolling(window=30).mean().values, c='red', label='CABLE')\n",
    "    ax.plot(CABLE_time,df_P2[var_name].rolling(window=30).mean().values, c='green', label='PLUMBER2')\n",
    "    ax.legend()\n",
    "    ax.set_title(f'{var_name} Comparison for {site_name}')\n",
    "\n",
    "    plt.savefig(f'./plots/check_LAI_output/CABLE_vs_Flux_site_{var_name}_{site_name}.png',dpi=300)\n"
   ]
  }
 ],
 "metadata": {
  "kernelspec": {
   "display_name": "Python [conda env:analysis3-unstable]",
   "language": "python",
   "name": "conda-env-analysis3-unstable-py"
  },
  "language_info": {
   "codemirror_mode": {
    "name": "ipython",
    "version": 3
   },
   "file_extension": ".py",
   "mimetype": "text/x-python",
   "name": "python",
   "nbconvert_exporter": "python",
   "pygments_lexer": "ipython3",
   "version": "3.10.14"
  }
 },
 "nbformat": 4,
 "nbformat_minor": 5
}
