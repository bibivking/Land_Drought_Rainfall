{
 "cells": [
  {
   "cell_type": "code",
   "execution_count": 1,
   "id": "635ab7bb-ea9a-4353-a1d1-068f68ef0ffb",
   "metadata": {},
   "outputs": [],
   "source": [
    "import os\n",
    "from netCDF4 import Dataset\n",
    "import numpy as np\n",
    "from datetime import datetime, timedelta\n",
    "import matplotlib.pyplot as plt\n",
    "import pandas as pd\n",
    "import cartopy.crs as ccrs\n",
    "import cartopy.feature as cfeature\n",
    "from cartopy.mpl.gridliner import LONGITUDE_FORMATTER, LATITUDE_FORMATTER\n",
    "from scipy.interpolate import griddata\n",
    "import matplotlib.ticker as mticker"
   ]
  },
  {
   "cell_type": "code",
   "execution_count": 2,
   "id": "c0e536dc-c66d-4be9-8b8e-50eff7324422",
   "metadata": {},
   "outputs": [],
   "source": [
    "# To use PLUMBER2_GPP_common_utils, change directory to where it exists\n",
    "os.chdir('/g/data/w97/mm3972/scripts/Land_Drought_Rainfall')\n",
    "from common_utils import *"
   ]
  },
  {
   "cell_type": "code",
   "execution_count": 3,
   "id": "4acb5b78-2845-46e0-988e-3984bf829f2b",
   "metadata": {},
   "outputs": [],
   "source": [
    "lis_input_path  = '/scratch/w97/mm3972/model/NUWRF/Drought_breaking_rainfall/test_runs/LIS_offline/lis_input.d03.nc'"
   ]
  },
  {
   "cell_type": "code",
   "execution_count": 4,
   "id": "077f024a-00ee-4edc-b8d1-f62bbc847317",
   "metadata": {},
   "outputs": [],
   "source": [
    "f_lis     = Dataset(lis_input_path)\n",
    "landcover = f_lis.variables['LANDCOVER']"
   ]
  },
  {
   "cell_type": "code",
   "execution_count": 5,
   "id": "8db66bff-9b1c-4681-aa75-5e5e873795ac",
   "metadata": {},
   "outputs": [
    {
     "data": {
      "text/plain": [
       "masked_array(data=[0.        , 0.08333334, 0.09090909, 0.1       ,\n",
       "                   0.11111111, 0.125     , 0.14285715, 0.16666667,\n",
       "                   0.18181819, 0.2       , 0.22222222, 0.25      ,\n",
       "                   0.27272728, 0.2857143 , 0.3       , 0.33333334,\n",
       "                   0.36363637, 0.375     , 0.4       , 0.41666666,\n",
       "                   0.42857143, 0.44444445, 0.45454547, 0.5       ,\n",
       "                   0.54545456, 0.5555556 , 0.5714286 , 0.5833333 ,\n",
       "                   0.6       , 0.625     , 0.6363636 , 0.6666667 ,\n",
       "                   0.7       , 0.71428573, 0.72727275, 0.75      ,\n",
       "                   0.7777778 , 0.8       , 0.8181818 , 0.8333333 ,\n",
       "                   0.85714287, 0.875     , 0.8888889 , 0.9       ,\n",
       "                   0.90909094, 0.9166667 , 1.        ],\n",
       "             mask=False,\n",
       "       fill_value=1e+20,\n",
       "            dtype=float32)"
      ]
     },
     "execution_count": 5,
     "metadata": {},
     "output_type": "execute_result"
    }
   ],
   "source": [
    "np.unique(landcover)"
   ]
  },
  {
   "cell_type": "code",
   "execution_count": 6,
   "id": "be64fc70-db3d-458d-b0f9-0a9c0495b165",
   "metadata": {},
   "outputs": [],
   "source": [
    "lis_input_path2 = '/g/data/w97/mm3972/model/wrf/NUWRF/LISWRF_configs/auxiliary/drght1719_AUX/lis_input/lis_input.d01.nc'  "
   ]
  },
  {
   "cell_type": "code",
   "execution_count": 7,
   "id": "50f574ac-c912-44df-95cc-88dac20c50dd",
   "metadata": {},
   "outputs": [],
   "source": [
    "f_lis_2    = Dataset(lis_input_path2)\n",
    "landcover2 = f_lis_2.variables['LANDCOVER']"
   ]
  },
  {
   "cell_type": "code",
   "execution_count": 8,
   "id": "43b3091a-c4e1-47e6-aa35-1654842dbc36",
   "metadata": {},
   "outputs": [
    {
     "data": {
      "text/plain": [
       "masked_array(data=[0.        , 0.05      , 0.05263158, 0.05555556,\n",
       "                   0.05882353, 0.0625    , 0.06666667, 0.07142857,\n",
       "                   0.07692308, 0.08333334, 0.09090909, 0.1       ,\n",
       "                   0.10526316, 0.11111111, 0.11764706, 0.125     ,\n",
       "                   0.13333334, 0.14285715, 0.15      , 0.15384616,\n",
       "                   0.15789473, 0.16666667, 0.1764706 , 0.18181819,\n",
       "                   0.1875    , 0.2       , 0.21052632, 0.21428572,\n",
       "                   0.22222222, 0.23076923, 0.23529412, 0.25      ,\n",
       "                   0.2631579 , 0.26666668, 0.27272728, 0.2777778 ,\n",
       "                   0.2857143 , 0.29411766, 0.3       , 0.30769232,\n",
       "                   0.3125    , 0.31578946, 0.33333334, 0.35      ,\n",
       "                   0.3529412 , 0.35714287, 0.36363637, 0.36842105,\n",
       "                   0.375     , 0.3846154 , 0.3888889 , 0.4       ,\n",
       "                   0.4117647 , 0.41666666, 0.42105263, 0.42857143,\n",
       "                   0.4375    , 0.44444445, 0.45      , 0.45454547,\n",
       "                   0.46153846, 0.46666667, 0.47058824, 0.47368422,\n",
       "                   0.5       , 0.5263158 , 0.5294118 , 0.53333336,\n",
       "                   0.53846157, 0.54545456, 0.55      , 0.5555556 ,\n",
       "                   0.5625    , 0.5714286 , 0.57894737, 0.5833333 ,\n",
       "                   0.5882353 , 0.6       , 0.6111111 , 0.61538464,\n",
       "                   0.625     , 0.6315789 , 0.6363636 , 0.64285713,\n",
       "                   0.64705884, 0.65      , 0.6666667 , 0.68421054,\n",
       "                   0.6875    , 0.6923077 , 0.7       , 0.7058824 ,\n",
       "                   0.71428573, 0.7222222 , 0.72727275, 0.73333335,\n",
       "                   0.7368421 , 0.75      , 0.7647059 , 0.7692308 ,\n",
       "                   0.7777778 , 0.78571427, 0.7894737 , 0.8       ,\n",
       "                   0.8125    , 0.8181818 , 0.8235294 , 0.8333333 ,\n",
       "                   0.84210527, 0.84615386, 0.85      , 0.85714287,\n",
       "                   0.8666667 , 0.875     , 0.88235295, 0.8888889 ,\n",
       "                   0.8947368 , 0.9       , 0.90909094, 0.9166667 ,\n",
       "                   0.9230769 , 0.9285714 , 0.93333334, 0.9375    ,\n",
       "                   0.9411765 , 0.9444444 , 0.94736844, 0.95      ,\n",
       "                   1.        ],\n",
       "             mask=False,\n",
       "       fill_value=1e+20,\n",
       "            dtype=float32)"
      ]
     },
     "execution_count": 8,
     "metadata": {},
     "output_type": "execute_result"
    }
   ],
   "source": [
    "np.unique(landcover2)"
   ]
  },
  {
   "cell_type": "code",
   "execution_count": null,
   "id": "2428a979-3ca3-411d-847e-4beb964fea9e",
   "metadata": {},
   "outputs": [],
   "source": []
  }
 ],
 "metadata": {
  "kernelspec": {
   "display_name": "Python [conda env:analysis3-24.01]",
   "language": "python",
   "name": "conda-env-analysis3-24.01-py"
  },
  "language_info": {
   "codemirror_mode": {
    "name": "ipython",
    "version": 3
   },
   "file_extension": ".py",
   "mimetype": "text/x-python",
   "name": "python",
   "nbconvert_exporter": "python",
   "pygments_lexer": "ipython3",
   "version": "3.10.13"
  }
 },
 "nbformat": 4,
 "nbformat_minor": 5
}
