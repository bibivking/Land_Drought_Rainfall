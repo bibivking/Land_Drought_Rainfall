{
 "cells": [
  {
   "cell_type": "code",
   "execution_count": 1,
   "id": "4bc88c5c-594e-476b-9e38-70632235b21c",
   "metadata": {},
   "outputs": [],
   "source": [
    "import os\n",
    "import gc\n",
    "import sys\n",
    "import glob\n",
    "import numpy as np\n",
    "import pandas as pd\n",
    "import netCDF4 as nc\n",
    "from datetime import datetime, timedelta\n",
    "from matplotlib.cm import get_cmap\n",
    "import matplotlib.pyplot as plt\n",
    "from matplotlib import cm\n",
    "from matplotlib import colors\n",
    "import matplotlib.ticker as mticker\n",
    "from multiprocessing import Pool\n",
    "import cartopy.crs as ccrs\n",
    "from cartopy.feature import NaturalEarthFeature, OCEAN\n",
    "from cartopy.mpl.gridliner import LONGITUDE_FORMATTER, LATITUDE_FORMATTER\n",
    "from cartopy.mpl.ticker import LongitudeFormatter, LatitudeFormatter"
   ]
  },
  {
   "cell_type": "code",
   "execution_count": 2,
   "id": "2008fb17-0b19-49ce-8c24-d08bca462159",
   "metadata": {},
   "outputs": [],
   "source": [
    "# To use PLUMBER2_GPP_common_utils, change directory to where it exists\n",
    "os.chdir('/g/data/w97/mm3972/scripts/Land_Drought_Rainfall')\n",
    "from common_utils import *"
   ]
  },
  {
   "cell_type": "markdown",
   "id": "312bb7ae-1c3c-49ea-9f96-0ae8124730f8",
   "metadata": {
    "tags": []
   },
   "source": [
    "## Gamma distribution"
   ]
  },
  {
   "cell_type": "code",
   "execution_count": null,
   "id": "c570d62f-890d-42c6-8d75-09367ef6d43c",
   "metadata": {},
   "outputs": [],
   "source": [
    "# file_spi_30 = '/g/data/w97/mm3972/scripts/Land_Drought_Rainfall/identify_drought_break_events/calc_AUS_SPI/nc_files/spi_gamma_30_reorder.nc'\n",
    "\n",
    "file_spi_30         = '/g/data/w97/mm3972/scripts/Land_Drought_Rainfall/identify_drought_break_events/nc_files/spi_gamma_30_reorder.nc'\n",
    "file_spi_30_nanfill = '/g/data/w97/mm3972/scripts/Land_Drought_Rainfall/identify_drought_break_events/nc_files/spi_gamma_30_reorder_nan_filled.nc' \n",
    "file_spi_90         = '/g/data/w97/mm3972/scripts/Land_Drought_Rainfall/identify_drought_break_events/nc_files/spi_gamma_90_reorder.nc'\n",
    "file_mask           = '/g/data/w97/mm3972/model/cable/src/CABLE-AUX/offline/mmy_gridinfo_AU/gridinfo_AWAP_CSIRO_AU_NAT_ELEV_DLCM_mask.nc'\n",
    "file_rain           = '/g/data/w97/mm3972/scripts/Land_Drought_Rainfall/identify_drought_break_events/nc_files/agcd_v1_precip_total_r005_daily_1950_2023.nc'\n"
   ]
  },
  {
   "cell_type": "code",
   "execution_count": null,
   "id": "a7b5f0a5-7ba3-4cc3-bd38-b2042a72f3ee",
   "metadata": {},
   "outputs": [],
   "source": [
    "# Read SPI\n",
    "file_in    = file_spi_30\n",
    "var_name   = 'spi_gamma_30'\n",
    "ts_s       = 29\n",
    "\n",
    "f_spi      = nc.Dataset(file_in, 'r')\n",
    "spi        = f_spi.variables[var_name][:,10:,:-45].data #\n",
    "lat_spi    = f_spi.variables['lat'][10:]\n",
    "lon_spi    = f_spi.variables['lon'][:-45]"
   ]
  },
  {
   "cell_type": "code",
   "execution_count": null,
   "id": "14034dc1-805b-4b72-849b-876ac96bc0fe",
   "metadata": {},
   "outputs": [],
   "source": [
    "# Read mask\n",
    "f_mask     = nc.Dataset(file_mask, 'r')\n",
    "landsea    = f_mask.variables['landsea'][:]\n",
    "lat_mask   = f_mask.variables['latitude'][:]\n",
    "lon_mask   = f_mask.variables['longitude'][:]\n",
    "\n",
    "ntime      = len(spi[:,0,0])"
   ]
  },
  {
   "cell_type": "code",
   "execution_count": null,
   "id": "0f75b2e4-5c34-403b-8ad3-0c3616b42553",
   "metadata": {},
   "outputs": [],
   "source": [
    "for i in np.arange(ts_s, 40):\n",
    "\n",
    "    spi_tmp  = np.where(landsea == 1, -9999., spi[i,:,:].data)\n",
    "\n",
    "    #spi_tmp  = spi[i,:,:].data\n",
    "\n",
    "    if np.sum(np.isnan(spi_tmp)) > 100:\n",
    "        print(i,' ', np.sum(np.isnan(spi_tmp)))\n",
    "\n",
    "        # Create a figure with 3 subplots in 1 row\n",
    "        fig, ax = plt.subplots(nrows=1, ncols=1, figsize=(5, 5), subplot_kw={'projection': ccrs.PlateCarree()})\n",
    "\n",
    "        # Adjust spacing between subplots\n",
    "        plt.subplots_adjust(wspace=0.3)\n",
    "\n",
    "        # Set extent based on loc_lat and loc_lon\n",
    "        ax.set_extent([112, 156, -45, -10])  # Example extent, adjust as needed\n",
    "\n",
    "        ax.coastlines(resolution=\"50m\", linewidth=1)\n",
    "\n",
    "        # Add gridlines\n",
    "        gl               = ax.gridlines(crs=ccrs.PlateCarree(), draw_labels=True, linewidth=1, color='black', linestyle='--')\n",
    "        gl.xlabels_top   = False\n",
    "        gl.ylabels_right = False\n",
    "        gl.xlines        = True\n",
    "\n",
    "        gl.xlocator      = mticker.FixedLocator([140, 145, 150])\n",
    "        gl.ylocator      = mticker.FixedLocator([-40, -35, -30])\n",
    "\n",
    "        gl.xformatter    = LongitudeFormatter()\n",
    "        gl.yformatter    = LatitudeFormatter()\n",
    "        gl.xlabel_style  = {'size': 10, 'color': 'black'}\n",
    "        gl.ylabel_style  = {'size': 10, 'color': 'black'}\n",
    "\n",
    "        # clevs            = [-5,-4,-3,-2,-1,-0.5,0.5,1,2,3,4,5]\n",
    "        plot1            = ax.contourf(lon_mask, lat_mask, spi_tmp,  transform=ccrs.PlateCarree(), cmap=plt.cm.ocean) # extend='both', levels=clevs,\n",
    "\n",
    "        cb = plt.colorbar(plot1, ax=ax, orientation=\"horizontal\", pad=0.02, aspect=16, shrink=0.8)\n",
    "        cb.ax.tick_params(labelsize=10)\n",
    "\n",
    "        plt.show()\n",
    "        # plt.savefig('./plots/spatial_map_obs_'+message+'.png',dpi=300)\n"
   ]
  },
  {
   "cell_type": "markdown",
   "id": "0dce08de-3f4f-4626-8bfe-8770141a7306",
   "metadata": {},
   "source": [
    "Gamma distribution: If there are extended periods of zero precipitation in the dataset, the SPI calculation might fail. The gamma distribution, which is used in the SPI calculation, cannot handle zero precipitation values effectively."
   ]
  },
  {
   "cell_type": "markdown",
   "id": "61e874ba-9017-469d-bc78-1876093a4fac",
   "metadata": {
    "tags": []
   },
   "source": [
    "## Pearson distribution"
   ]
  },
  {
   "cell_type": "code",
   "execution_count": null,
   "id": "980ff740-9e6a-4591-a860-840602973f91",
   "metadata": {},
   "outputs": [],
   "source": [
    "file_spi_30         = '/g/data/w97/mm3972/scripts/Land_Drought_Rainfall/identify_drought_break_events/nc_files/spi_pearson_30_reorder.nc'\n",
    "file_spi_30_nanfill = '/g/data/w97/mm3972/scripts/Land_Drought_Rainfall/identify_drought_break_events/nc_files/spi_pearson_30_reorder_nan_filled.nc' \n",
    "file_spi_90         = '/g/data/w97/mm3972/scripts/Land_Drought_Rainfall/identify_drought_break_events/nc_files/spi_pearson_90_reorder.nc'\n",
    "file_mask           = '/g/data/w97/mm3972/model/cable/src/CABLE-AUX/offline/mmy_gridinfo_AU/gridinfo_AWAP_CSIRO_AU_NAT_ELEV_DLCM_mask.nc'\n",
    "file_rain           = '/g/data/w97/mm3972/scripts/Land_Drought_Rainfall/identify_drought_break_events/nc_files/agcd_v1_precip_total_r005_daily_1950_2023.nc'"
   ]
  },
  {
   "cell_type": "code",
   "execution_count": null,
   "id": "44c81f44-f20e-4b07-b12e-0e4d787b7883",
   "metadata": {},
   "outputs": [],
   "source": [
    "# Read SPI\n",
    "file_in    = file_spi_30_nanfill\n",
    "var_name   = 'spi_pearson_30'\n",
    "ts_s       = 29\n",
    "\n",
    "f_spi      = nc.Dataset(file_in, 'r')\n",
    "spi        = f_spi.variables[var_name][:].data #[:,10:,:-45]"
   ]
  },
  {
   "cell_type": "code",
   "execution_count": null,
   "id": "81624a9c-ad96-409f-b17e-9af1c61e9d56",
   "metadata": {},
   "outputs": [],
   "source": [
    "lat_spi    = f_spi.variables['lat'][:] #[10:]\n",
    "lon_spi    = f_spi.variables['lon'][:] #[:-45]\n",
    "print(lat_spi)\n",
    "print(lon_spi)"
   ]
  },
  {
   "cell_type": "code",
   "execution_count": null,
   "id": "5af89ad9-214f-4aa6-9d01-a386cbee7e76",
   "metadata": {},
   "outputs": [],
   "source": [
    "# Read mask\n",
    "f_mask     = nc.Dataset(file_mask, 'r')\n",
    "landsea    = f_mask.variables['landsea'][:]\n",
    "lat_mask   = f_mask.variables['latitude'][:]\n",
    "lon_mask   = f_mask.variables['longitude'][:]\n",
    "\n",
    "ntime      = len(spi[:,0,0])"
   ]
  },
  {
   "cell_type": "code",
   "execution_count": null,
   "id": "23b3b4d2-2ae0-433b-aa80-ec0d83c70445",
   "metadata": {},
   "outputs": [],
   "source": [
    "np.unique(spi[30,:,:])"
   ]
  },
  {
   "cell_type": "code",
   "execution_count": null,
   "id": "3f6cd638-6486-4570-b2de-373538ad9c66",
   "metadata": {},
   "outputs": [],
   "source": [
    "for i in np.arange(ts_s, 40):\n",
    "\n",
    "    # spi_tmp  = np.where(landsea == 1, -9999., spi[i,:,:].data)\n",
    "\n",
    "    spi_tmp  = spi[i,:,:].data\n",
    "\n",
    "    # if np.sum(np.isnan(spi_tmp)) > 100:\n",
    "    print(i,' ', np.sum(np.isnan(spi_tmp)))\n",
    "\n",
    "    # Create a figure with 3 subplots in 1 row\n",
    "    fig, ax = plt.subplots(nrows=1, ncols=1, figsize=(5, 5), subplot_kw={'projection': ccrs.PlateCarree()})\n",
    "\n",
    "    # Adjust spacing between subplots\n",
    "    plt.subplots_adjust(wspace=0.3)\n",
    "\n",
    "    # Set extent based on loc_lat and loc_lon\n",
    "    ax.set_extent([112, 156, -45, -10])  # Example extent, adjust as needed\n",
    "\n",
    "    ax.coastlines(resolution=\"50m\", linewidth=1)\n",
    "\n",
    "    # Add gridlines\n",
    "    gl               = ax.gridlines(crs=ccrs.PlateCarree(), draw_labels=True, linewidth=1, color='black', linestyle='--')\n",
    "    gl.xlabels_top   = False\n",
    "    gl.ylabels_right = False\n",
    "    gl.xlines        = True\n",
    "\n",
    "    gl.xlocator      = mticker.FixedLocator([140, 145, 150])\n",
    "    gl.ylocator      = mticker.FixedLocator([-40, -35, -30])\n",
    "\n",
    "    gl.xformatter    = LongitudeFormatter()\n",
    "    gl.yformatter    = LatitudeFormatter()\n",
    "    gl.xlabel_style  = {'size': 10, 'color': 'black'}\n",
    "    gl.ylabel_style  = {'size': 10, 'color': 'black'}\n",
    "\n",
    "    # clevs            = [-5,-4,-3,-2,-1,-0.5,0.5,1,2,3,4,5]\n",
    "    plot1            = ax.contourf(lon_mask, lat_mask, spi_tmp,  transform=ccrs.PlateCarree(), cmap=plt.cm.ocean) # extend='both', levels=clevs,\n",
    "\n",
    "    cb = plt.colorbar(plot1, ax=ax, orientation=\"horizontal\", pad=0.02, aspect=16, shrink=0.8)\n",
    "    cb.ax.tick_params(labelsize=10)\n",
    "\n",
    "    plt.show()\n",
    "    # plt.savefig('./plots/spatial_map_obs_'+message+'.png',dpi=300)\n"
   ]
  },
  {
   "cell_type": "markdown",
   "id": "c1491686-2447-46a1-b840-cbe078a7b9df",
   "metadata": {},
   "source": [
    "### 从第一个负值开始积累，直到第一个正值出现，这个时期长于10或者30天，就认为是想要关注的干旱，按到底有多少天spi—90小于-1，将干旱分类，画出相对应的"
   ]
  },
  {
   "cell_type": "markdown",
   "id": "14fea8dd-347c-4355-8c4d-0dd6abba35ba",
   "metadata": {
    "jp-MarkdownHeadingCollapsed": true,
    "tags": []
   },
   "source": [
    "## Check drought periods"
   ]
  },
  {
   "cell_type": "code",
   "execution_count": null,
   "id": "4135e7e7-80d0-4c68-beaf-1634f47c2141",
   "metadata": {},
   "outputs": [],
   "source": [
    "input_file = '/g/data/w97/mm3972/scripts/Land_Drought_Rainfall/identify_drought_break_events/nc_files/spi_pearson_90_reorder_drought_periods_2000-2023.nc'\n",
    "mask_file  = '/g/data/w97/mm3972/model/cable/src/CABLE-AUX/offline/mmy_gridinfo_AU/gridinfo_AWAP_OpenLandMap_DLCM_mask.nc'\n",
    "\n",
    "with nc.Dataset(input_file, mode='r') as f_in:\n",
    "\n",
    "    lat_out          = f_in.variables['lat'][:]\n",
    "    lon_out          = f_in.variables['lon'][:]\n",
    "    accumulated_days = f_in.variables['accumulated_days'][:,:,:]\n",
    "    time             = nc.num2date(f_in.variables['time'][:],f_in.variables['time'].units,\n",
    "                         only_use_cftime_datetimes=False,only_use_python_datetimes=True)\n",
    "    ntime            = len(time)\n",
    "\n",
    "with nc.Dataset(mask_file, mode='r') as f_mask:\n",
    "\n",
    "    lat_in           = f_mask.variables['latitude'][:]\n",
    "    lon_in           = f_mask.variables['longitude'][:]\n",
    "    landsea          = f_mask.variables['landsea'][:,:]\n",
    "    \n",
    "landsea_regrid   = regrid_data(lat_in, lon_in, lat_out, lon_out, landsea, method='nearest')\n",
    "landsea_3d       = np.repeat(landsea_regrid[np.newaxis, :, :], ntime, axis=0)\n",
    "accumulated_days = np.where(landsea_3d==0, accumulated_days, np.nan)"
   ]
  },
  {
   "cell_type": "code",
   "execution_count": null,
   "id": "07f2e57b-ecc5-4244-887a-3c1369684a8c",
   "metadata": {},
   "outputs": [],
   "source": [
    "# Get total number of non-NaN pixels\n",
    "total_pixel = np.sum(~np.isnan(accumulated_days[0, :, :]))\n",
    "\n",
    "# Loop over time steps\n",
    "for i in np.arange(ntime):\n",
    "\n",
    "    # Count drought pixels (where condition is met)\n",
    "    drought_pixel   = np.sum(accumulated_days[i, :, :] >= 1)\n",
    "    drought_percent = drought_pixel / total_pixel * 100.0\n",
    "    \n",
    "    \n",
    "    # Only plot when drought_percent exceeds 5%\n",
    "    if drought_percent > 10:\n",
    "        print(drought_pixel)\n",
    "        print(drought_percent)\n",
    "\n",
    "        # ================== Start Plotting =================\n",
    "        fig = plt.figure(figsize=(6, 5))\n",
    "        ax = plt.axes(projection=ccrs.PlateCarree())\n",
    "\n",
    "        # Set map extent\n",
    "        ax.set_extent([112, 154, -45, -5])\n",
    "        ax.coastlines(resolution=\"50m\", linewidth=1)\n",
    "\n",
    "        # Add gridlines\n",
    "        gl = ax.gridlines(crs=ccrs.PlateCarree(), draw_labels=True, linewidth=1, color='black', linestyle='--')\n",
    "        gl.top_labels = False\n",
    "        gl.right_labels = False\n",
    "        gl.xlines = True\n",
    "        gl.xformatter = LONGITUDE_FORMATTER\n",
    "        gl.yformatter = LATITUDE_FORMATTER\n",
    "        gl.xlabel_style = {'size': 10, 'color': 'black'}\n",
    "        gl.ylabel_style = {'size': 10, 'color': 'black'}\n",
    "\n",
    "        # Define color map and levels for contour\n",
    "        cmap = plt.cm.BrBG\n",
    "        levels = [0, 10, 20, 30, 40, 50, 60, 70, 80, 90, 100]\n",
    "\n",
    "        # Create meshgrid of longitude and latitude\n",
    "        lons, lats = np.meshgrid(lon_out, lat_out)\n",
    "\n",
    "        # Contour plot\n",
    "        plot = ax.contourf(lons, lats, accumulated_days[i, :, :], levels=levels, transform=ccrs.PlateCarree(), cmap=cmap)\n",
    "\n",
    "        # Add colorbar\n",
    "        cb = plt.colorbar(plot, ax=ax, orientation=\"vertical\", pad=0.02, aspect=16, shrink=0.8)\n",
    "\n",
    "        # Save the figure\n",
    "        fig.savefig(f\"./plots/drought_events/drought_events_{time[i]}.png\", bbox_inches='tight', dpi=300)\n",
    "\n",
    "        # Close the figure to avoid memory issues\n",
    "        plt.close(fig)"
   ]
  },
  {
   "cell_type": "markdown",
   "id": "ce8ae053-2c09-45aa-ac3f-513f5edd5b4c",
   "metadata": {
    "jp-MarkdownHeadingCollapsed": true,
    "tags": []
   },
   "source": [
    "## Identify drought area"
   ]
  },
  {
   "cell_type": "markdown",
   "id": "7e60e2cd-a778-4cbc-8a96-cfa08ddd277d",
   "metadata": {
    "jp-MarkdownHeadingCollapsed": true,
    "tags": []
   },
   "source": [
    "### Plot weather system of drought-breaking rainfall"
   ]
  },
  {
   "cell_type": "code",
   "execution_count": null,
   "id": "5d94139d-4f12-4ac1-9e88-c85cf4de6412",
   "metadata": {},
   "outputs": [],
   "source": [
    "def plot_diagnose_weather_system(time, lat_AGCD, lon_AGCD, accumulated_day, accumulated_day_large_drought, precip_day):\n",
    "    \n",
    "    def is_leap(year):\n",
    "        if year%4 == 0:\n",
    "            return True\n",
    "        else:\n",
    "            return False\n",
    "    \n",
    "    # time     = datetime(2017,1,2,0,0,0,0)\n",
    "    year     = time.year\n",
    "    month    = time.month\n",
    "    day      = time.day\n",
    "\n",
    "    dom_leap = {1:31, 2:29, 3:31, 4:30, 5:31, 6:30, 7:31, 8:31, 9:30, 10:31, 11:30, 12:31}\n",
    "    dom_com  = {1:31, 2:28, 3:31, 4:30, 5:31, 6:30, 7:31, 8:31, 9:30, 10:31, 11:30, 12:31}\n",
    "\n",
    "    if is_leap(year):\n",
    "        dom = dom_leap\n",
    "    else:\n",
    "        dom = dom_com\n",
    "\n",
    "    # ERA5 MSLP\n",
    "    ERA5_MSLP_path    = \"/g/data/rt52/era5/single-levels/reanalysis\"\n",
    "    ERA5_MSLP_T_file  = f'{ERA5_MSLP_path}/2t/{year}/2t_era5_oper_sfc_{year}{month:02d}01-{year}{month:02d}{dom[month]:02d}.nc'   # air temperature\n",
    "    ERA5_MSLP_P_file  = f'{ERA5_MSLP_path}/sp/{year}/sp_era5_oper_sfc_{year}{month:02d}01-{year}{month:02d}{dom[month]:02d}.nc'   # surface pressure\n",
    "    ERA5_MSLP_U_file  = f'{ERA5_MSLP_path}/10u/{year}/10u_era5_oper_sfc_{year}{month:02d}01-{year}{month:02d}{dom[month]:02d}.nc' # 10 m wind speed\n",
    "    ERA5_MSLP_V_file  = f'{ERA5_MSLP_path}/10v/{year}/10v_era5_oper_sfc_{year}{month:02d}01-{year}{month:02d}{dom[month]:02d}.nc' # 10 m wind speed\n",
    "    ERA5_MSLP_R_file  = f'{ERA5_MSLP_path}/tp/{year}/tp_era5_oper_sfc_{year}{month:02d}01-{year}{month:02d}{dom[month]:02d}.nc'   # Total rainfall\n",
    "\n",
    "    # ERA5 Pressure level\n",
    "    ERA5_Press_path    = \"/g/data/rt52/era5/pressure-levels/reanalysis\"\n",
    "    ERA5_Press_T_file  = f'{ERA5_Press_path}/t/{year}/t_era5_oper_pl_{year}{month:02d}01-{year}{month:02d}{dom[month]:02d}.nc'   # air temperature\n",
    "    ERA5_Press_Z_file  = f'{ERA5_Press_path}/z/{year}/z_era5_oper_pl_{year}{month:02d}01-{year}{month:02d}{dom[month]:02d}.nc'   # Geopotential\n",
    "    ERA5_Press_U_file  = f'{ERA5_Press_path}/u/{year}/u_era5_oper_pl_{year}{month:02d}01-{year}{month:02d}{dom[month]:02d}.nc'   # wind speed\n",
    "    ERA5_Press_V_file  = f'{ERA5_Press_path}/v/{year}/v_era5_oper_pl_{year}{month:02d}01-{year}{month:02d}{dom[month]:02d}.nc'   # wind speed\n",
    "    ERA5_Press_PV_file = f'{ERA5_Press_path}/pv/{year}/pv_era5_oper_pl_{year}{month:02d}01-{year}{month:02d}{dom[month]:02d}.nc' # Potential vorticity\n",
    "    ERA5_Press_w_file  = f'{ERA5_Press_path}/w/{year}/w_era5_oper_pl_{year}{month:02d}01-{year}{month:02d}{dom[month]:02d}.nc'   # Vertical velocity\n",
    "\n",
    "    # Open the NetCDF file\n",
    "    # -10: convert UTC to AEDT \n",
    "    t_s        = max(0,(day-1)*24-10)\n",
    "    t_e        = day*24-10\n",
    "\n",
    "    loc_lat    = [-48,-5]\n",
    "    loc_lon    = [110,156]\n",
    "\n",
    "    with nc.Dataset(ERA5_MSLP_T_file) as f_T_mslp:\n",
    "        lat       = f_T_mslp.variables['latitude'][:]\n",
    "        lon       = f_T_mslp.variables['longitude'][:]\n",
    "        lat_idx_s = np.argmin(np.abs(lat - loc_lat[0]))\n",
    "        lat_idx_e = np.argmin(np.abs(lat - loc_lat[1]))\n",
    "        lon_idx_s = np.argmin(np.abs(lon - loc_lon[0]))\n",
    "        lon_idx_e = np.argmin(np.abs(lon - loc_lon[1]))\n",
    "        T_mslp    = np.nanmean(f_T_mslp.variables['t2m'][t_s:t_e,lat_idx_s:lat_idx_e:-1,lon_idx_s:lon_idx_e], axis=0)\n",
    "        T_mslp    = T_mslp - 273.15\n",
    "        lat_AU    = f_T_mslp.variables['latitude'][lat_idx_s:lat_idx_e:-1]\n",
    "        lon_AU    = f_T_mslp.variables['longitude'][lon_idx_s:lon_idx_e]\n",
    "\n",
    "    with nc.Dataset(ERA5_MSLP_P_file) as f_P_mslp:\n",
    "        P_mslp = np.nanmean(f_P_mslp.variables['sp'][t_s:t_e,lat_idx_s:lat_idx_e:-1,lon_idx_s:lon_idx_e], axis=0)\n",
    "\n",
    "    with nc.Dataset(ERA5_MSLP_U_file) as f_U_mslp:\n",
    "        U_mslp = np.nanmean(f_U_mslp.variables['u10'][t_s:t_e,lat_idx_s:lat_idx_e:-1,lon_idx_s:lon_idx_e], axis=0)\n",
    "\n",
    "    with nc.Dataset(ERA5_MSLP_V_file) as f_V_mslp:\n",
    "        V_mslp = np.nanmean(f_V_mslp.variables['v10'][t_s:t_e,lat_idx_s:lat_idx_e:-1,lon_idx_s:lon_idx_e], axis=0)\n",
    "\n",
    "    with nc.Dataset(ERA5_MSLP_R_file) as f_R_mslp:\n",
    "        R_mslp = np.nansum(f_R_mslp.variables['tp'][t_s:t_e,lat_idx_s:lat_idx_e:-1,lon_idx_s:lon_idx_e], axis=0)\n",
    "\n",
    "    with nc.Dataset(ERA5_Press_T_file) as f_T_press:\n",
    "        T_press = np.nanmean(f_T_press.variables['t'][t_s:t_e,:,lat_idx_s:lat_idx_e:-1,lon_idx_s:lon_idx_e], axis=0)\n",
    "        T_press = T_press - 273.15\n",
    "\n",
    "    with nc.Dataset(ERA5_Press_Z_file) as f_Z_press:\n",
    "        Z_press = np.nanmean(f_Z_press.variables['z'][t_s:t_e,:,lat_idx_s:lat_idx_e:-1,lon_idx_s:lon_idx_e], axis=0)\n",
    "        #geopotential to geopotential height\n",
    "        Z_press = Z_press/9.81\n",
    "\n",
    "    with nc.Dataset(ERA5_Press_U_file) as f_U_press:\n",
    "        U_press = np.nanmean(f_U_press.variables['u'][t_s:t_e,:,lat_idx_s:lat_idx_e:-1,lon_idx_s:lon_idx_e], axis=0)\n",
    "\n",
    "    with nc.Dataset(ERA5_Press_V_file) as f_V_press:\n",
    "        V_press = np.nanmean(f_V_press.variables['v'][t_s:t_e,:,lat_idx_s:lat_idx_e:-1,lon_idx_s:lon_idx_e], axis=0)\n",
    "\n",
    "    with nc.Dataset(ERA5_Press_PV_file) as f_PV_press:\n",
    "        PV_press = np.nanmean(f_PV_press.variables['pv'][t_s:t_e,:,lat_idx_s:lat_idx_e:-1,lon_idx_s:lon_idx_e], axis=0)\n",
    "\n",
    "    with nc.Dataset(ERA5_Press_w_file) as f_w_press:\n",
    "        w_press = np.nanmean(f_w_press.variables['w'][t_s:t_e,:,lat_idx_s:lat_idx_e:-1,lon_idx_s:lon_idx_e], axis=0)\n",
    "\n",
    "    # ================== Start Plotting =================\n",
    "    fig, axs = plt.subplots(nrows=3, ncols=2, figsize=[8,12],sharex=False,\n",
    "                sharey=False, squeeze=True, subplot_kw={'projection': ccrs.PlateCarree()})\n",
    "    \n",
    "    plt.subplots_adjust(wspace=-0.15, hspace=0.105)\n",
    "\n",
    "    plt.rcParams['text.usetex']     = False\n",
    "    plt.rcParams['font.family']     = \"sans-serif\"\n",
    "    plt.rcParams['font.serif']      = \"Helvetica\"\n",
    "    plt.rcParams['axes.linewidth']  = 1.5\n",
    "    plt.rcParams['axes.labelsize']  = 12\n",
    "    plt.rcParams['font.size']       = 12\n",
    "    plt.rcParams['legend.fontsize'] = 12\n",
    "    plt.rcParams['xtick.labelsize'] = 12\n",
    "    plt.rcParams['ytick.labelsize'] = 12\n",
    "\n",
    "    almost_black                    = '#262626'\n",
    "    # change the tick colors also to the almost black\n",
    "    plt.rcParams['ytick.color']     = almost_black\n",
    "    plt.rcParams['xtick.color']     = almost_black\n",
    "\n",
    "    # change the text colors also to the almost black\n",
    "    plt.rcParams['text.color']      = almost_black\n",
    "\n",
    "    # Change the default axis colors from black to a slightly lighter black,\n",
    "    # and a little thinner (0.5 instead of 1)\n",
    "    plt.rcParams['axes.edgecolor']  = almost_black\n",
    "    plt.rcParams['axes.labelcolor'] = almost_black\n",
    "\n",
    "    # set the box type of sequence number\n",
    "    props = dict(boxstyle=\"round\", facecolor='white', alpha=0.0, ec='white')\n",
    "\n",
    "    states= NaturalEarthFeature(category=\"cultural\", scale=\"50m\",\n",
    "                                        facecolor=\"none\",\n",
    "                                        name=\"admin_1_states_provinces_shp\")\n",
    "    texts = [\"(a)\",\"(b)\",\"(c)\",\"(d)\",\"(e)\",\"(f)\"]\n",
    "\n",
    "    # Download and add the states and coastlines\n",
    "    states = NaturalEarthFeature(category=\"cultural\", scale=\"50m\",\n",
    "                                         facecolor=\"none\",\n",
    "                                         name=\"admin_1_states_provinces_shp\")\n",
    "                    #  925 850 500 hPa\n",
    "    pressure_levels = [33, 30, 21]  # Pressure levels for the plots\n",
    "    variables = {\"geopotential\": Z_press, \"wind_u\": U_press, \"wind_v\": V_press, \"w\": w_press, \"temperature\": T_press}\n",
    "\n",
    "    for i, ax in enumerate(axs.flat):\n",
    "\n",
    "        ax.add_feature(states, linewidth=.5, edgecolor=\"black\")\n",
    "        ax.coastlines('50m', linewidth=0.8)\n",
    "    \n",
    "        # Set map extent for specific region\n",
    "        ax.set_extent([112, 154, -43, -9])\n",
    "        ax.coastlines(resolution=\"50m\", linewidth=1)\n",
    "\n",
    "        if i == 0:  \n",
    "            # Plot the original accumulated day data\n",
    "            accumulated_day               = np.where(accumulated_day<0, np.nan, accumulated_day)\n",
    "            accumulated_day_large_drought = np.where(accumulated_day_large_drought<0, np.nan, accumulated_day_large_drought)\n",
    "            im1                           = ax.imshow(accumulated_day_large_drought[:, :], vmin=0, vmax=200, cmap='hot_r', \n",
    "                                                      extent=[lon_AGCD.min(), lon_AGCD.max(), lat_AGCD.min(), lat_AGCD.max()])\n",
    "            cbar1                         = plt.colorbar(im1, ax=ax, orientation=\"horizontal\", pad=0.02, aspect=20, shrink=0.7)\n",
    "            cbar1.set_label('days')\n",
    "            ax.text(0.02, 0.95, texts[i], transform=ax.transAxes, fontsize=12, bbox=props)\n",
    "        elif i == 1:\n",
    "            precip_day                    = np.where(precip_day<0.0001, np.nan, precip_day)\n",
    "            im2                           = ax.imshow(precip_day[:, :], vmin=0, vmax=20, cmap='YlGnBu', \n",
    "                                                      extent=[lon_AGCD.min(), lon_AGCD.max(), lat_AGCD.min(), lat_AGCD.max()])\n",
    "            cbar2                         = plt.colorbar(im2, ax=ax, orientation=\"horizontal\", pad=0.02, aspect=20, shrink=0.7)\n",
    "            cbar2.set_label('rainfall')\n",
    "            ax.text(0.02, 0.95, texts[i], transform=ax.transAxes, fontsize=12, bbox=props)\n",
    "        elif i == 2: # Top-left panel (MSLP)\n",
    "            # Precipitation as contourf\n",
    "            R_mslp = np.where(R_mslp*1000<0.01, np.nan,R_mslp)\n",
    "            pcm  = ax.contourf(lon_AU, lat_AU, R_mslp * 1000, levels=np.arange(0, 30, 2), cmap=\"YlGnBu\", extend=\"max\")\n",
    "            cbar = fig.colorbar(pcm, ax=ax, orientation=\"horizontal\", pad=0.05, aspect=20, shrink=0.7)\n",
    "            cbar.set_label(\"Precipitation (mm/day)\")        \n",
    "\n",
    "            # MSLP as contour lines\n",
    "            c = ax.contour(lon_AU, lat_AU, P_mslp / 100, levels=np.arange(980, 1050, 10), colors=\"black\", linewidths=0.8) # \n",
    "            ax.clabel(c, inline=True, fontsize=8, fmt='%d hPa')\n",
    "\n",
    "            # 10m Wind as arrows\n",
    "            ax.quiver(lon_AU[::5], lat_AU[::5], U_mslp[::5, ::5], V_mslp[::5, ::5],  scale=500, width=0.002, color=\"black\")\n",
    "            ax.text(0.02, 0.95, texts[i], transform=ax.transAxes, fontsize=12, bbox=props)\n",
    "\n",
    "        else:  # Top-right, Bottom-left, Bottom-right panels (Pressure levels)\n",
    "            level_idx = pressure_levels[i - 3]  # Select pressure level (925, 850, or 500 hPa)\n",
    "\n",
    "            # # Temperature as contourf\n",
    "            # level_temp = [-40,-35,-30,-25,-20,-15,-10,-5,0,5,10,15,20,25,30,35,40,45,50,55]\n",
    "            # pcm = ax.contourf(lon_AU, lat_AU, variables[\"temperature\"][level_idx], levels=level_temp, cmap=\"hot_r\", extend=\"both\")\n",
    "            # cbar = fig.colorbar(pcm, ax=ax, orientation=\"horizontal\", pad=0.05, aspect=20, shrink=0.7)\n",
    "            # cbar.set_label(\"Temperature (K)\")\n",
    "\n",
    "            # Vertical velocity as red contours\n",
    "            level_velo = [-1.2,-1,-0.8,-0.6,-0.4,-0.2,0,0.2,0.4,0.6,0.8,1.,1.2]\n",
    "            pcm = ax.contourf(lon_AU, lat_AU, variables[\"w\"][level_idx], levels=level_velo, cmap=\"bwr\", extend=\"both\")\n",
    "            cbar = fig.colorbar(pcm, ax=ax, orientation=\"horizontal\", pad=0.05, aspect=20, shrink=0.7)\n",
    "            cbar.set_label(\"Vertical Velocity (Pa/s)\")\n",
    "\n",
    "            # Geopotential as contour lines\n",
    "            c = ax.contour(lon_AU, lat_AU, variables[\"geopotential\"][level_idx]/10., levels=np.arange(0, 600, 5), colors=\"black\", linewidths=0.8)\n",
    "            ax.clabel(c, inline=True, fontsize=8, fmt='%d dam')\n",
    "\n",
    "            # Wind as arrows\n",
    "            ax.quiver(lon_AU[::5], lat_AU[::5], variables[\"wind_u\"][level_idx, ::5, ::5], variables[\"wind_v\"][level_idx, ::5, ::5], scale=300, width=0.002, color=\"black\")\n",
    "\n",
    "            # # Vertical velocity as red contours\n",
    "            # c = ax.contour(lon_AU, lat_AU, variables[\"w\"][level_idx], levels=np.arange(-1, 1.1, 0.4), colors=\"white\", linewidths=0.8)\n",
    "            # ax.clabel(c, inline=True, fontsize=8, fmt='%0.1f Pa/s')\n",
    "            ax.text(0.02, 0.95, texts[i], transform=ax.transAxes, fontsize=12, bbox=props)\n",
    "\n",
    "    # Add titles and save the figure    \n",
    "    axs[0, 0].set_title(\"Accumulated Days in Drought\")\n",
    "    axs[0, 1].set_title(\"Rainfall\")\n",
    "    axs[1, 0].set_title(\"MSLP & Precipitation\")\n",
    "    axs[1, 1].set_title(\"925 hPa Level\")\n",
    "    axs[2, 0].set_title(\"850 hPa Level\")\n",
    "    axs[2, 1].set_title(\"500 hPa Level\")\n",
    "    \n",
    "    output_path = f\"/g/data/w97/mm3972/scripts/Land_Drought_Rainfall/identify_drought_break_events/plots/{year}\"\n",
    "    if not os.path.exists(output_path):  # Check if the path does NOT exist\n",
    "        os.mkdir(output_path)  # Create the directory\n",
    "    plt.tight_layout()\n",
    "    plt.savefig(f\"{output_path}/Diagnose_weather_system_{time}\" , dpi=300, bbox_inches=\"tight\")\n",
    "    plt.show()"
   ]
  },
  {
   "cell_type": "markdown",
   "id": "580dba43-e24f-46f1-82a6-b0e2cd690276",
   "metadata": {
    "tags": []
   },
   "source": [
    "### Check identify drought covering large area"
   ]
  },
  {
   "cell_type": "code",
   "execution_count": null,
   "id": "595316d3-640c-4137-88c1-700d8b3b71b1",
   "metadata": {},
   "outputs": [],
   "source": [
    "import numpy as np\n",
    "import matplotlib.pyplot as plt\n",
    "from scipy.ndimage import label, sum as nd_sum\n",
    "import cartopy.crs as ccrs\n",
    "from cartopy.mpl.gridliner import LONGITUDE_FORMATTER, LATITUDE_FORMATTER\n",
    "\n",
    "def keep_only_large_drought_region(i, time, accumulated_day, precip_day, lat, lon, min_drought_area_km2=10000):\n",
    "    \n",
    "    # Define the drought threshold\n",
    "    drought_binary = accumulated_day > 0\n",
    "\n",
    "    # Label connected regions in the binary drought mask\n",
    "    labeled_droughts, num_features = label(drought_binary)\n",
    "\n",
    "    # Calculate grid cell size (resolution) based on lat/lon coordinates\n",
    "    lat_resolution = abs(lat[1] - lat[0])  # Latitude resolution in degrees\n",
    "    lon_resolution = abs(lon[1] - lon[0])  # Longitude resolution in degrees\n",
    "\n",
    "    # Approximate cell area in km^2\n",
    "    earth_radius_km = 6371.0\n",
    "    cell_area_km2 = (\n",
    "        (lat_resolution * np.pi / 180) *\n",
    "        (lon_resolution * np.pi / 180) *\n",
    "        (earth_radius_km ** 2) )\n",
    "\n",
    "    # Calculate area in km^2 for each labeled region\n",
    "    drought_areas     = nd_sum(drought_binary, labeled_droughts, index=range(1, num_features + 1))\n",
    "    drought_areas_km2 = drought_areas * cell_area_km2\n",
    "\n",
    "    # Filter regions that meet the minimum area threshold\n",
    "    large_drought_labels = [i + 1 for i, area in enumerate(drought_areas_km2) if area >= min_drought_area_km2]\n",
    "    large_drought_map    = np.isin(labeled_droughts, large_drought_labels)\n",
    "    \n",
    "    accumulated_day_large_drought = np.where(~np.isnan(large_drought_map), accumulated_day, np.nan)\n",
    "    \n",
    "    if large_drought_labels != None:\n",
    "        \n",
    "        # ============ Plotting weather system diagnose =============\n",
    "        plot_diagnose_weather_system(time, lat, lon, accumulated_day, accumulated_day_large_drought, precip_day)\n",
    "    \n",
    "    large_drought_labels= None\n",
    "    large_drought_map   = None\n",
    "    precip_day          = None\n",
    "    \n",
    "    return \n"
   ]
  },
  {
   "cell_type": "markdown",
   "id": "ccd0a4d6-b422-44b3-8629-610218b8d962",
   "metadata": {
    "tags": []
   },
   "source": [
    "### Read in data"
   ]
  },
  {
   "cell_type": "code",
   "execution_count": null,
   "id": "3cff817a-ffff-4649-a262-1c1217b70116",
   "metadata": {},
   "outputs": [],
   "source": [
    "input_file = '/g/data/w97/mm3972/scripts/Land_Drought_Rainfall/identify_drought_break_events/nc_files/spi_pearson_90_reorder_nan_filled_drought_periods.nc'\n",
    "mask_file  = '/g/data/w97/mm3972/model/cable/src/CABLE-AUX/offline/mmy_gridinfo_AU/gridinfo_AWAP_OpenLandMap_DLCM_mask.nc'\n",
    "rain_file  = '/g/data/w97/mm3972/scripts/Land_Drought_Rainfall/identify_drought_break_events/nc_files/agcd_v1_precip_total_r005_daily_1950_2023.nc'\n",
    "\n",
    "with nc.Dataset(input_file, mode='r') as f_in:\n",
    "    lat_out          = f_in.variables['lat'][:]\n",
    "    lon_out          = f_in.variables['lon'][:]\n",
    "    accumulated_days = f_in.variables['accumulated_days'][:,:,:]\n",
    "    time             = nc.num2date(f_in.variables['time'][:],f_in.variables['time'].units,\n",
    "                         only_use_cftime_datetimes=False,only_use_python_datetimes=True)\n",
    "    ntime            = len(time)\n",
    "    \n",
    "with nc.Dataset(rain_file, mode='r') as f_rain:\n",
    "    lat_rain         = f_rain.variables['lat'][10:]\n",
    "    lon_rain         = f_rain.variables['lon'][:-45]\n",
    "    precip           = f_rain.variables['precip'][:,10:,:-45]\n",
    "    time_rain        = nc.num2date(f_rain.variables['time'][:],f_rain.variables['time'].units,\n",
    "                         only_use_cftime_datetimes=False,only_use_python_datetimes=True)\n",
    "    ntime_rain       = len(time)\n",
    "\n",
    "with nc.Dataset(mask_file, mode='r') as f_mask:\n",
    "    landsea          = f_mask.variables['landsea'][:,:]\n",
    "    \n",
    "landsea_3d           = np.repeat(landsea[np.newaxis, :, :], ntime, axis=0)\n",
    "accumulated_days     = np.where(landsea_3d==0, accumulated_days, np.nan)\n",
    "precip               = np.where(landsea_3d==0, precip, np.nan)\n",
    "\n",
    "# Define minimum drought area in square kilometers (example threshold)\n",
    "# min_drought_area_km2 = 10000  # Minimum size in square km\n"
   ]
  },
  {
   "cell_type": "markdown",
   "id": "bf03f30d-7bf4-45fe-9507-153e89f23c2d",
   "metadata": {
    "tags": []
   },
   "source": [
    "### Calculate"
   ]
  },
  {
   "cell_type": "code",
   "execution_count": null,
   "id": "f41768e9-f7c5-462c-9fcc-7b5724eedff8",
   "metadata": {},
   "outputs": [],
   "source": [
    "min_drought_area_km2 = 10000  # Minimum size in square km\n",
    "\n",
    "# Prepare arguments for parallel processing\n",
    "args_list = [ (i, time[i], accumulated_days[i,::-1,:], precip[i,::-1,:], \n",
    "               lat_out, lon_out, min_drought_area_km2=min_drought_area_km2) \n",
    "               for i in np.arange(ntime)]\n",
    "\n",
    "# Use multiprocessing to calculate accumulated days for each grid point\n",
    "with Pool() as pool:\n",
    "    pool.map(keep_only_large_drought_region, args_list)\n"
   ]
  },
  {
   "cell_type": "markdown",
   "id": "44310946-def0-48e5-892a-70a3337da6b2",
   "metadata": {
    "jp-MarkdownHeadingCollapsed": true,
    "tags": []
   },
   "source": [
    "## Check the identified drought-breaking rainfall"
   ]
  },
  {
   "cell_type": "code",
   "execution_count": null,
   "id": "5f1dfc8f-317e-4ccd-8646-6fcb6d61de82",
   "metadata": {},
   "outputs": [],
   "source": [
    "def find_drought_breaking_date(spi_series, threshold=-1, min_period=30):\n",
    "    \n",
    "    # Initialize the output array\n",
    "    result       = np.zeros_like(spi_series, dtype=np.int8)\n",
    "    conditions_1 = np.zeros_like(spi_series, dtype=np.int8)\n",
    "    conditions_2 = np.zeros_like(spi_series, dtype=np.int8)\n",
    "    conditions_3 = np.zeros_like(spi_series, dtype=np.int8)\n",
    "\n",
    "    # Iterate over time starting from day 30 (to have a full 30-day history)\n",
    "    for t in range(min_period, spi_series.shape[0]):\n",
    "        \n",
    "        # Extract the 30-day window for the current time step\n",
    "        spi_window  = spi_series[t - min_period:t]\n",
    "        \n",
    "        # Condition 1: SPI in the last 30 days didn't increase \n",
    "        condition_1 = np.all(np.diff(spi_window) <= 0, axis=0)\n",
    "        print(np.diff(spi_window))\n",
    "        \n",
    "        # Condition 2: spi < threshold\n",
    "        condition_2 = (spi_window[-1] < threshold)\n",
    "        \n",
    "        # Condition 3: SPI increases today compared to yesterday\n",
    "        condition_3 = spi_series[t] > spi_series[t - 1]\n",
    "        \n",
    "        # Combine conditions\n",
    "        result[t]       = np.where(condition_1 & condition_2 &condition_3, 1, 0)\n",
    "        conditions_1[t] = np.where(condition_1, 1, 0)\n",
    "        conditions_2[t] = np.where(condition_2, 1, 0)\n",
    "        conditions_3[t] = np.where(condition_3, 1, 0)\n",
    "\n",
    "    return conditions_1, conditions_2, conditions_3, result"
   ]
  },
  {
   "cell_type": "code",
   "execution_count": null,
   "id": "827ba90c-adea-431d-927f-33df5af26c08",
   "metadata": {},
   "outputs": [],
   "source": [
    "file_path   = '/g/data/w97/mm3972/scripts/Land_Drought_Rainfall/identify_drought_break_events/nc_files/spi_pearson_90_reorder_nan_filled.nc'  # Replace with the path to your file\n",
    "output_file = '/g/data/w97/mm3972/scripts/Land_Drought_Rainfall/identify_drought_break_events/nc_files/spi_pearson_90_reorder_nan_filled_drought_breaking_date.nc'\n",
    "period_file = '/g/data/w97/mm3972/scripts/Land_Drought_Rainfall/identify_drought_break_events/nc_files/spi_pearson_90_reorder_nan_filled_drought_periods.nc'\n",
    "lat_index   = 381\n",
    "lon_index   = 541\n",
    "\n",
    "with nc.Dataset(file_path, mode='r') as f_spi:\n",
    "    spi                                               = f_spi.variables['spi_pearson_90'][5400:5600, lat_index, lon_index]\n",
    "    conditions_1, conditions_2, conditions_3, results = find_drought_breaking_date(spi)\n",
    "with nc.Dataset(output_file, mode='r') as f_date:\n",
    "    drought_break_date = f_date.variables['drought_break_days'][5400:5600, lat_index, lon_index]\n",
    "\n",
    "with nc.Dataset(period_file, mode='r') as f_period:\n",
    "    accumulated_day    = f_period.variables['accumulated_days'][5400:5600, lat_index, lon_index]\n",
    "\n",
    "# plt.plot(spi,c='orange',alpha=0.5)\n",
    "# plt.plot(accumulated_day/100.,c='black',alpha=0.5)\n",
    "# # plt.plot(drought_break_date,c='blue',alpha=0.5)\n",
    "# plt.plot(conditions_1,c='purple',alpha=0.4)\n",
    "# # plt.plot(condition_2,c='green',alpha=0.1)\n",
    "# # plt.plot(results,c='purple',alpha=0.5)\n",
    "# plt.axhline(y=1, color='red', linestyle='--', linewidth=2)\n",
    "# plt.axhline(y=-1, color='red', linestyle='--', linewidth=2)\n",
    "\n",
    "x_series = np.arange(len(spi))\n",
    "plt.bar(x_series, spi, width=1.0, color='orange',alpha=0.5)\n",
    "plt.bar(x_series, accumulated_day/100., width=1.0,  color='black',alpha=0.5)\n",
    "# plt.bar(drought_break_date,color='blue',alpha=0.5)\n",
    "plt.bar(x_series, conditions_1, width=1.0, color='purple',alpha=0.4)\n",
    "# plt.bar(x_series, conditions_2, width=1.0, color='green',alpha=0.4)\n",
    "# plt.bar(x_series, conditions_3, width=1.0, color='pink',alpha=0.4)\n",
    "# plt.bar(x_series, results,color='purple',width=1.0, alpha=0.5)\n",
    "plt.axhline(y=1, color='red', linestyle='--', linewidth=2)\n",
    "plt.axhline(y=-1, color='red', linestyle='--', linewidth=2)\n",
    "\n",
    "plt.show()"
   ]
  },
  {
   "cell_type": "code",
   "execution_count": null,
   "id": "a8af50eb-74c8-4afb-b690-fe67611631ba",
   "metadata": {},
   "outputs": [],
   "source": [
    "file_path   = '/g/data/w97/mm3972/scripts/Land_Drought_Rainfall/identify_drought_break_events/nc_files/spi_pearson_90_reorder_nan_filled.nc'  # Replace with the path to your file\n",
    "output_file = '/g/data/w97/mm3972/scripts/Land_Drought_Rainfall/identify_drought_break_events/nc_files/spi_pearson_90_reorder_nan_filled_drought_breaking_date.nc'\n",
    "period_file = '/g/data/w97/mm3972/scripts/Land_Drought_Rainfall/identify_drought_break_events/nc_files/spi_pearson_90_reorder_nan_filled_drought_periods.nc'\n",
    "lat_index   = 381\n",
    "lon_index   = 541\n",
    "\n",
    "for i in np.arange(1100, 1200):\n",
    "\n",
    "    with nc.Dataset(file_path, mode='r') as f_spi:\n",
    "        spi                = f_spi.variables['spi_pearson_90'][i, :, :]\n",
    "\n",
    "    with nc.Dataset(output_file, mode='r') as f_date:\n",
    "        drought_break_date = f_date.variables['drought_break_days'][i, :, :]\n",
    "\n",
    "    with nc.Dataset(period_file, mode='r') as f_period:\n",
    "        accumulated_day    = f_period.variables['accumulated_days'][i, :, :]\n",
    "\n",
    "    plt.contourf(spi)\n",
    "    plt.colorbar()\n",
    "    plt.show()\n",
    "\n",
    "    plt.contourf(accumulated_day,levels=[0,10,20,30,40,50,60,70,80,90,100,110,120,130,140,150,160,170,180,190,200])\n",
    "    plt.colorbar()\n",
    "    plt.show()\n",
    "\n",
    "    plt.contourf(drought_break_date, levels=[0.,0.1,0.2,0.3,0.4,0.5,0.6,0.7,0.8,0.9,1.0])\n",
    "    plt.colorbar()\n",
    "    plt.show()\n"
   ]
  },
  {
   "cell_type": "markdown",
   "id": "8d0ab7c2-c26d-461f-8bc6-996cd61d8c0b",
   "metadata": {},
   "source": [
    "## Find rainfall events"
   ]
  },
  {
   "cell_type": "code",
   "execution_count": 3,
   "id": "9ed42776-2fab-4ead-9cd2-c724fee3105e",
   "metadata": {},
   "outputs": [],
   "source": [
    "output_file = '/g/data/w97/mm3972/scripts/Land_Drought_Rainfall/identify_drought_break_events/nc_files/spi_pearson_90_reorder_nan_filled_drought_breaking_date.nc'\n",
    "period_file = '/g/data/w97/mm3972/scripts/Land_Drought_Rainfall/identify_drought_break_events/nc_files/spi_pearson_90_reorder_nan_filled_drought_periods.nc'"
   ]
  },
  {
   "cell_type": "code",
   "execution_count": 4,
   "id": "9ff48f5d-f6cb-4a85-90fc-8136eddad2f6",
   "metadata": {},
   "outputs": [],
   "source": [
    "rain_file   = '/g/data/w97/mm3972/scripts/Land_Drought_Rainfall/identify_drought_break_events/nc_files/agcd_v1_precip_total_r005_daily_1950_2023.nc'\n",
    "with nc.Dataset(rain_file, mode='r') as f_rain:\n",
    "    lat_rain      = f_rain.variables['lat'][10:]\n",
    "    lon_rain      = f_rain.variables['lon'][:-45]\n",
    "    precip        = f_rain.variables['precip'][18262:,10:,:-45]\n",
    "    time          = nc.num2date(f_rain.variables['time'][18262:],f_rain.variables['time'].units,\n",
    "                                only_use_cftime_datetimes=False,only_use_python_datetimes=True)"
   ]
  },
  {
   "cell_type": "code",
   "execution_count": 5,
   "id": "266d40dc-b875-4e30-a2e9-d17c9a6925c3",
   "metadata": {},
   "outputs": [
    {
     "name": "stderr",
     "output_type": "stream",
     "text": [
      "/jobfs/129902916.gadi-pbs/ipykernel_2327781/661211598.py:5: UserWarning: WARNING: valid_min not used since it\n",
      "cannot be safely cast to variable data type\n",
      "  spi        = f_spi.variables['spi_pearson_90'][18262:,:,:]\n",
      "/jobfs/129902916.gadi-pbs/ipykernel_2327781/661211598.py:5: UserWarning: WARNING: valid_max not used since it\n",
      "cannot be safely cast to variable data type\n",
      "  spi        = f_spi.variables['spi_pearson_90'][18262:,:,:]\n"
     ]
    }
   ],
   "source": [
    "spi_file    = '/g/data/w97/mm3972/scripts/Land_Drought_Rainfall/identify_drought_break_events/nc_files/spi_pearson_90_reorder_nan_filled.nc'  # Replace with the path to your file \n",
    "with nc.Dataset(spi_file, mode='r') as f_spi:\n",
    "    lat_spi    = f_spi.variables['lat'][:]\n",
    "    lon_spi    = f_spi.variables['lon'][:]\n",
    "    spi        = f_spi.variables['spi_pearson_90'][18262:,:,:]"
   ]
  },
  {
   "cell_type": "code",
   "execution_count": 6,
   "id": "0d1875c0-5b30-4ba1-8eec-fb1458946fb6",
   "metadata": {},
   "outputs": [],
   "source": [
    "ntime   = len(spi[:,0,0])\n",
    "mask_file = '/g/data/w97/mm3972/model/cable/src/CABLE-AUX/offline/mmy_gridinfo_AU/gridinfo_AWAP_OpenLandMap_ELEV_DLCM_mask.nc'\n",
    "with nc.Dataset(mask_file, mode='r') as f_land:\n",
    "    landsea    = f_land.variables['landsea'][:]\n",
    "    landsea_3d = np.repeat(landsea[np.newaxis, :, :], ntime, axis=0)"
   ]
  },
  {
   "cell_type": "code",
   "execution_count": 7,
   "id": "5cbc0413-0631-44c3-9991-26248899649c",
   "metadata": {},
   "outputs": [],
   "source": [
    "spi_land    = np.where(landsea_3d == 0, spi, np.nan)\n",
    "precip_land = np.where(landsea_3d == 0, precip, np.nan)"
   ]
  },
  {
   "cell_type": "markdown",
   "id": "97e9dba3-9716-47d1-893b-ef0e2d8636b0",
   "metadata": {},
   "source": [
    "### Check drought-breaking rainfall selection"
   ]
  },
  {
   "cell_type": "code",
   "execution_count": 68,
   "id": "3922a404-246b-4ec8-b1f3-7409c0343476",
   "metadata": {},
   "outputs": [],
   "source": [
    "lat_index     = 290\n",
    "lon_index     = 700"
   ]
  },
  {
   "cell_type": "markdown",
   "id": "6c9776ee-2846-4403-858a-09ac3fb58405",
   "metadata": {
    "tags": []
   },
   "source": [
    "#### Check the site location"
   ]
  },
  {
   "cell_type": "code",
   "execution_count": 69,
   "id": "7722e787-5b5e-4eb9-9cf8-481f3e317b69",
   "metadata": {},
   "outputs": [
    {
     "data": {
      "image/png": "[encoded data removed]",
      "text/plain": [
       "<Figure size 800x800 with 1 Axes>"
      ]
     },
     "metadata": {},
     "output_type": "display_data"
    }
   ],
   "source": [
    "import matplotlib.pyplot as plt\n",
    "import cartopy.crs as ccrs\n",
    "import cartopy.feature as cfeature\n",
    "\n",
    "# Latitude and longitude of the site\n",
    "site_lat = lat_spi[lat_index]  # Example latitude\n",
    "site_lon = lon_spi[lon_index]  # Example longitude\n",
    "\n",
    "# Create a map of Australia\n",
    "fig, ax = plt.subplots(figsize=(8, 8), subplot_kw={'projection': ccrs.PlateCarree()})\n",
    "ax.set_extent([112, 154, -44, -10], crs=ccrs.PlateCarree())  # Australia's bounding box\n",
    "\n",
    "# Add features to the map\n",
    "ax.add_feature(cfeature.BORDERS, linestyle=':')\n",
    "ax.add_feature(cfeature.COASTLINE)\n",
    "ax.add_feature(cfeature.LAND, facecolor='lightgray')\n",
    "ax.add_feature(cfeature.LAKES, edgecolor='blue', facecolor='none')\n",
    "ax.add_feature(cfeature.RIVERS, edgecolor='blue')\n",
    "ax.gridlines(draw_labels=True, linestyle='--', alpha=0.5)\n",
    "\n",
    "# Add state borders\n",
    "states = cfeature.NaturalEarthFeature(\n",
    "    category='cultural',\n",
    "    name='admin_1_states_provinces_lines',\n",
    "    scale='10m',\n",
    "    facecolor='none')\n",
    "ax.add_feature(states, edgecolor='gray', linestyle='--')\n",
    "\n",
    "# Plot the site\n",
    "ax.plot(site_lon, site_lat, marker='*', color='red', markersize=15, label=\"Site\")\n",
    "\n",
    "# Add a legend\n",
    "plt.legend(loc=\"upper right\")\n",
    "plt.title(\"Australia Map with Site Location\")\n",
    "plt.show()\n"
   ]
  },
  {
   "cell_type": "markdown",
   "id": "49022e2b-6180-4b1c-ae4f-014fa43ec368",
   "metadata": {},
   "source": [
    "#### Identify drought-breaking events"
   ]
  },
  {
   "cell_type": "code",
   "execution_count": 70,
   "id": "389ae719-905b-4621-b1d8-38f76326b330",
   "metadata": {},
   "outputs": [],
   "source": [
    "precip_series = precip_land[:,lat_index, lon_index]\n",
    "spi_series    = spi_land[:,lat_index, lon_index]"
   ]
  },
  {
   "cell_type": "code",
   "execution_count": 71,
   "id": "e030f66f-d256-43c1-b469-a5aa602ee26c",
   "metadata": {},
   "outputs": [],
   "source": [
    "# condition 1: the rainfall intensity > 5 mm/day\n",
    "condition1 = precip_series > 5\n",
    "\n",
    "# condition 2: the day before the rainfall is in drought (<-1)\n",
    "condition2 = spi_series < -1\n",
    "\n",
    "# condition 3 : total rainfall of perivous 30 days < 20 mm and no rainfall in the past 30 days > 5 mm/day\n",
    "condition3 = np.zeros(ntime, dtype=bool)\n",
    "\n",
    "# Handle the first 30 time points\n",
    "drought_period                  = 30\n",
    "daily_rain_thres                = 5\n",
    "drought_period_tot_rain_thres   = 20\n",
    "\n",
    "condition3[:drought_period]     = False\n",
    "\n",
    "# For the remaining time points, check the condition\n",
    "for t in np.arange(drought_period, ntime):\n",
    "    if (( np.max(precip_series[t-drought_period:t]) < drought_period) \n",
    "     & (np.sum(precip_series[t-drought_period:t]) < drought_period_tot_rain_thres)):\n",
    "        condition3[t] = True\n",
    "    else:\n",
    "        condition3[t] = False\n",
    "\n",
    "# condition 4 : drought is broken (SPI>-1) 30 days after the rain or \n",
    "condition4 = np.zeros(ntime, dtype=bool)\n",
    "\n",
    "# Handle the last 14 time points separately\n",
    "recover_period                    = 30\n",
    "spi_increase_thres                = 1\n",
    "condition4[:ntime-recover_period] = False\n",
    "\n",
    "# For the remaining time points, check the condition\n",
    "for t in range(ntime - recover_period-1):\n",
    "    if ((np.max(spi_series[t+1:t+1+recover_period]) > -1) \n",
    "     | (np.max(spi_series[t+1:t+1+recover_period])-spi_series[t-1] > spi_increase_thres)):\n",
    "        condition4[t] = True\n",
    "\n",
    "spi_drought = np.zeros(ntime, dtype=bool)\n",
    "\n",
    "# For the first 30 time steps, set spi_drought to False\n",
    "spi_drought[:30] = False\n",
    "\n",
    "# For the rest of the time steps, evaluate the condition\n",
    "for t in range(30, ntime):\n",
    "    if np.max(spi_series[t-30:t]) < -1:\n",
    "        spi_drought[t] = True\n",
    "    else:\n",
    "        spi_drought[t] = False"
   ]
  },
  {
   "cell_type": "code",
   "execution_count": 72,
   "id": "ec6b7412-fb02-4b42-bbd9-ce7efcaecfdc",
   "metadata": {},
   "outputs": [],
   "source": [
    "conditions = (condition1) & (condition2) & (condition3) & (condition4)"
   ]
  },
  {
   "cell_type": "code",
   "execution_count": 73,
   "id": "f11b1b54-f349-4995-9c42-bc7460e4217f",
   "metadata": {},
   "outputs": [
    {
     "name": "stdout",
     "output_type": "stream",
     "text": [
      "condition1: 501\n",
      "condition2: 1716\n",
      "condition3: 4536\n",
      "condition4: 8143\n",
      "conditions: 29\n"
     ]
    }
   ],
   "source": [
    "print('condition1:', len(conditions[condition1 == True]))\n",
    "print('condition2:', len(conditions[condition2 == True]))\n",
    "print('condition3:', len(conditions[condition3 == True]))\n",
    "print('condition4:', len(conditions[condition4 == True]))\n",
    "print('conditions:', len(conditions[(condition1 == True)&(condition2 == True)&(condition3 == True)&(condition4 == True)]))"
   ]
  },
  {
   "cell_type": "code",
   "execution_count": 77,
   "id": "0e56150a-f08e-4e9c-a53a-707f2330e301",
   "metadata": {},
   "outputs": [
    {
     "data": {
      "text/plain": [
       "<matplotlib.lines.Line2D at 0x14799ec06a10>"
      ]
     },
     "execution_count": 77,
     "metadata": {},
     "output_type": "execute_result"
    },
    {
     "data": {
      "image/png": "[encoded data removed]",
      "text/plain": [
       "<Figure size 640x480 with 1 Axes>"
      ]
     },
     "metadata": {},
     "output_type": "display_data"
    }
   ],
   "source": [
    "# conditions = np.where(conditions, 1, 0)\n",
    "breaking_times = time[(condition1 == True)&(condition2 == True)&(condition3 == True)&(condition4 == True)]\n",
    "\n",
    "date_s = (datetime(2020, 1, 1) - datetime(2000, 1, 1)).days\n",
    "date_e = (datetime(2021, 1, 1) - datetime(2000, 1, 1)).days\n",
    "\n",
    "plt.bar(time[date_s:date_e], precip_series[date_s:date_e]/20, color='gray')\n",
    "plt.bar(time[date_s:date_e], conditions[date_s:date_e]*(-4), color='blue')\n",
    "plt.bar(time[date_s:date_e], ( (condition1[date_s:date_e] == True)\n",
    "                              &(condition2[date_s:date_e] == True)\n",
    "                              &(condition3[date_s:date_e] == True))*(-3), color='green')\n",
    "plt.plot(time[date_s:date_e], spi_series[date_s:date_e], color='orange')\n",
    "plt.axhline(y=0,c='red')"
   ]
  },
  {
   "cell_type": "code",
   "execution_count": 21,
   "id": "a528f120-a602-424c-a801-b006c4ec4c47",
   "metadata": {},
   "outputs": [
    {
     "ename": "NameError",
     "evalue": "name 'spi_rainday' is not defined",
     "output_type": "error",
     "traceback": [
      "\u001b[0;31m---------------------------------------------------------------------------\u001b[0m",
      "\u001b[0;31mNameError\u001b[0m                                 Traceback (most recent call last)",
      "Cell \u001b[0;32mIn[21], line 3\u001b[0m\n\u001b[1;32m      1\u001b[0m spi_before_rain \u001b[38;5;241m=\u001b[39m np\u001b[38;5;241m.\u001b[39mwhere((precip_series[\u001b[38;5;241m1\u001b[39m:]\u001b[38;5;241m>\u001b[39m\u001b[38;5;241m5\u001b[39m) \u001b[38;5;241m&\u001b[39m (spi_series[:\u001b[38;5;241m-\u001b[39m\u001b[38;5;241m1\u001b[39m]\u001b[38;5;241m<\u001b[39m\u001b[38;5;241m-\u001b[39m\u001b[38;5;241m1\u001b[39m), spi_series[:\u001b[38;5;241m-\u001b[39m\u001b[38;5;241m1\u001b[39m], np\u001b[38;5;241m.\u001b[39mnan) \u001b[38;5;66;03m# \u001b[39;00m\n\u001b[0;32m----> 3\u001b[0m spi_diff        \u001b[38;5;241m=\u001b[39m \u001b[43mspi_rainday\u001b[49m \u001b[38;5;241m-\u001b[39m spi_before_rain \n\u001b[1;32m      4\u001b[0m x               \u001b[38;5;241m=\u001b[39m np\u001b[38;5;241m.\u001b[39marange(\u001b[38;5;28mlen\u001b[39m(spi_rainday))\n",
      "\u001b[0;31mNameError\u001b[0m: name 'spi_rainday' is not defined"
     ]
    }
   ],
   "source": [
    "spi_before_rain = np.where((precip_series[1:]>5) & (spi_series[:-1]<-1), spi_series[:-1], np.nan) # \n",
    "\n",
    "spi_diff        = spi_rainday - spi_before_rain \n",
    "x               = np.arange(len(spi_rainday))"
   ]
  },
  {
   "cell_type": "code",
   "execution_count": 15,
   "id": "cd5c5679-788c-4870-a373-9556a542cf4a",
   "metadata": {},
   "outputs": [],
   "source": [
    "y = np.arange(len(spi_rainday[~np.isnan(spi_rainday)]))"
   ]
  },
  {
   "cell_type": "code",
   "execution_count": 16,
   "id": "2d2cd2b4-6974-4ac4-b46a-38cf71375205",
   "metadata": {},
   "outputs": [
    {
     "data": {
      "text/plain": [
       "array([ 0,  1,  2,  3,  4,  5,  6,  7,  8,  9, 10, 11, 12, 13, 14, 15, 16,\n",
       "       17, 18, 19, 20, 21, 22, 23, 24, 25, 26, 27, 28, 29, 30, 31, 32, 33,\n",
       "       34, 35, 36, 37, 38, 39, 40, 41, 42, 43, 44, 45, 46, 47, 48, 49, 50,\n",
       "       51, 52, 53, 54, 55, 56, 57, 58, 59, 60, 61, 62, 63, 64, 65, 66, 67,\n",
       "       68, 69, 70, 71, 72, 73, 74, 75, 76, 77, 78, 79, 80, 81, 82, 83, 84,\n",
       "       85, 86, 87, 88, 89, 90, 91, 92, 93, 94])"
      ]
     },
     "execution_count": 16,
     "metadata": {},
     "output_type": "execute_result"
    }
   ],
   "source": [
    "y"
   ]
  },
  {
   "cell_type": "code",
   "execution_count": 17,
   "id": "3ed87d96-30d6-40e6-ad8a-e4e87b94dfa0",
   "metadata": {},
   "outputs": [
    {
     "data": {
      "text/plain": [
       "<BarContainer object of 95 artists>"
      ]
     },
     "execution_count": 17,
     "metadata": {},
     "output_type": "execute_result"
    },
    {
     "data": {
      "image/png": "[encoded data removed]",
      "text/plain": [
       "<Figure size 640x480 with 1 Axes>"
      ]
     },
     "metadata": {},
     "output_type": "display_data"
    }
   ],
   "source": [
    "plt.bar(y*2,   spi_before_rain[~np.isnan(spi_rainday)], color='orange', alpha=0.5) # width = 1,\n",
    "plt.bar(y*2+1, spi_rainday[~np.isnan(spi_rainday)],     color='blue',   alpha=0.5) # width = 1, "
   ]
  },
  {
   "cell_type": "code",
   "execution_count": null,
   "id": "4f673997-1061-414f-8587-3fcb244e36c8",
   "metadata": {},
   "outputs": [],
   "source": [
    "spi_rainday_all        = np.where((precip[1:,:,:]>0.1) , spi[1:,:,:], np.nan) #& (spi_series[:-1]<-1)\n",
    "spi_before_rain_all    = np.where((precip[1:,:,:]>0.1) , spi[:-1,:,:], np.nan) # & (spi_series[:-1]<-1)\n",
    "spi_diff_all           = spi_rainday - spi_before_rain "
   ]
  },
  {
   "cell_type": "code",
   "execution_count": null,
   "id": "9df2c9a3-cf63-4550-a69a-0505984ca26e",
   "metadata": {},
   "outputs": [],
   "source": [
    "import numpy as np\n",
    "import matplotlib.pyplot as plt\n",
    "from scipy.stats import gaussian_kde\n",
    "\n",
    "# Kernel density estimation (KDE) to estimate the PDFs\n",
    "kde_a = gaussian_kde(~np.isnan(spi_rainday_all.ravel()))\n",
    "kde_b = gaussian_kde(~np.isnan(spi_before_rain_all.ravel()))\n",
    "kde_c = gaussian_kde(~np.isnan(spi_diff_all.ravel()))\n",
    "\n",
    "x = np.arange(-2,2.01, 0.01)\n",
    "# Evaluate the KDE for each series\n",
    "pdf_a = kde_a(x)\n",
    "pdf_b = kde_b(x)\n",
    "pdf_c = kde_c(x)\n",
    "\n",
    "# Plot the PDFs\n",
    "plt.figure(figsize=(8, 6))\n",
    "# plt.plot(x, pdf_a, label='Time Series A', color='blue')\n",
    "# plt.plot(x, pdf_b, label='Time Series B', color='orange')\n",
    "plt.plot(x, pdf_c, label='Time Series C', color='gray')\n",
    "# plt.fill_between(x, pdf_a, alpha=0.3, color='blue')  # Optional: shaded area under curve\n",
    "# plt.fill_between(x, pdf_b, alpha=0.3, color='orange')\n",
    "plt.fill_between(x, pdf_c, alpha=0.3, color='gray')"
   ]
  },
  {
   "cell_type": "code",
   "execution_count": null,
   "id": "b2790660-edf9-498f-a490-85aef6037bb5",
   "metadata": {},
   "outputs": [],
   "source": []
  }
 ],
 "metadata": {
  "kernelspec": {
   "display_name": "Python [conda env:analysis3-24.07]",
   "language": "python",
   "name": "conda-env-analysis3-24.07-py"
  },
  "language_info": {
   "codemirror_mode": {
    "name": "ipython",
    "version": 3
   },
   "file_extension": ".py",
   "mimetype": "text/x-python",
   "name": "python",
   "nbconvert_exporter": "python",
   "pygments_lexer": "ipython3",
   "version": "3.10.14"
  }
 },
 "nbformat": 4,
 "nbformat_minor": 5
}
